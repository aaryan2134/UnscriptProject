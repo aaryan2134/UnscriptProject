{
  "nbformat": 4,
  "nbformat_minor": 0,
  "metadata": {
    "colab": {
      "name": "Data Exploration.ipynb",
      "provenance": [],
      "collapsed_sections": [
        "SQclGtazG0y7",
        "NYhSnQiUG9iK",
        "22nfWkI9xfdl",
        "BGiv6jgINcC6",
        "MKLp-QHYMqZ6"
      ]
    },
    "kernelspec": {
      "name": "python3",
      "display_name": "Python 3"
    },
    "language_info": {
      "name": "python"
    }
  },
  "cells": [
    {
      "cell_type": "markdown",
      "source": [
        "# Importing Libraries and Dataset"
      ],
      "metadata": {
        "id": "SQclGtazG0y7"
      }
    },
    {
      "cell_type": "code",
      "execution_count": null,
      "metadata": {
        "id": "rLXn2xkQsg4e"
      },
      "outputs": [],
      "source": [
        "import pandas as pd\n",
        "import numpy as np\n",
        "import datetime\n",
        "import matplotlib.pyplot as plt\n",
        "import matplotlib.cm as cm\n",
        "%matplotlib inline\n",
        "import seaborn as sns\n",
        "\n",
        "from sklearn import preprocessing\n",
        "from scipy.stats import skew, boxcox"
      ]
    },
    {
      "cell_type": "code",
      "source": [
        "from google.colab import drive\n",
        "drive.mount('/content/drive')"
      ],
      "metadata": {
        "colab": {
          "base_uri": "https://localhost:8080/"
        },
        "id": "xRTqxlpoKEYx",
        "outputId": "b413cb32-59df-4b5e-cbce-60959ab3248e"
      },
      "execution_count": null,
      "outputs": [
        {
          "output_type": "stream",
          "name": "stdout",
          "text": [
            "Mounted at /content/drive\n"
          ]
        }
      ]
    },
    {
      "cell_type": "code",
      "source": [
        "df = pd.read_csv('/content/drive/MyDrive/Hackathon_ML-Model/AIML Dataset.csv')\n",
        "\n",
        "df.head()"
      ],
      "metadata": {
        "colab": {
          "base_uri": "https://localhost:8080/",
          "height": 270
        },
        "id": "fYzsyzG_ukh3",
        "outputId": "2f15d9fc-d7c3-4ba6-acd1-1d968604dff3"
      },
      "execution_count": null,
      "outputs": [
        {
          "output_type": "execute_result",
          "data": {
            "text/html": [
              "\n",
              "  <div id=\"df-9adb493b-7dc0-44ea-928b-38772eac6968\">\n",
              "    <div class=\"colab-df-container\">\n",
              "      <div>\n",
              "<style scoped>\n",
              "    .dataframe tbody tr th:only-of-type {\n",
              "        vertical-align: middle;\n",
              "    }\n",
              "\n",
              "    .dataframe tbody tr th {\n",
              "        vertical-align: top;\n",
              "    }\n",
              "\n",
              "    .dataframe thead th {\n",
              "        text-align: right;\n",
              "    }\n",
              "</style>\n",
              "<table border=\"1\" class=\"dataframe\">\n",
              "  <thead>\n",
              "    <tr style=\"text-align: right;\">\n",
              "      <th></th>\n",
              "      <th>step</th>\n",
              "      <th>type</th>\n",
              "      <th>amount</th>\n",
              "      <th>nameOrig</th>\n",
              "      <th>oldbalanceOrg</th>\n",
              "      <th>newbalanceOrig</th>\n",
              "      <th>nameDest</th>\n",
              "      <th>oldbalanceDest</th>\n",
              "      <th>newbalanceDest</th>\n",
              "      <th>isFraud</th>\n",
              "      <th>isFlaggedFraud</th>\n",
              "    </tr>\n",
              "  </thead>\n",
              "  <tbody>\n",
              "    <tr>\n",
              "      <th>0</th>\n",
              "      <td>1</td>\n",
              "      <td>PAYMENT</td>\n",
              "      <td>9839.64</td>\n",
              "      <td>C1231006815</td>\n",
              "      <td>170136.0</td>\n",
              "      <td>160296.36</td>\n",
              "      <td>M1979787155</td>\n",
              "      <td>0.0</td>\n",
              "      <td>0.0</td>\n",
              "      <td>0</td>\n",
              "      <td>0</td>\n",
              "    </tr>\n",
              "    <tr>\n",
              "      <th>1</th>\n",
              "      <td>1</td>\n",
              "      <td>PAYMENT</td>\n",
              "      <td>1864.28</td>\n",
              "      <td>C1666544295</td>\n",
              "      <td>21249.0</td>\n",
              "      <td>19384.72</td>\n",
              "      <td>M2044282225</td>\n",
              "      <td>0.0</td>\n",
              "      <td>0.0</td>\n",
              "      <td>0</td>\n",
              "      <td>0</td>\n",
              "    </tr>\n",
              "    <tr>\n",
              "      <th>2</th>\n",
              "      <td>1</td>\n",
              "      <td>TRANSFER</td>\n",
              "      <td>181.00</td>\n",
              "      <td>C1305486145</td>\n",
              "      <td>181.0</td>\n",
              "      <td>0.00</td>\n",
              "      <td>C553264065</td>\n",
              "      <td>0.0</td>\n",
              "      <td>0.0</td>\n",
              "      <td>1</td>\n",
              "      <td>0</td>\n",
              "    </tr>\n",
              "    <tr>\n",
              "      <th>3</th>\n",
              "      <td>1</td>\n",
              "      <td>CASH_OUT</td>\n",
              "      <td>181.00</td>\n",
              "      <td>C840083671</td>\n",
              "      <td>181.0</td>\n",
              "      <td>0.00</td>\n",
              "      <td>C38997010</td>\n",
              "      <td>21182.0</td>\n",
              "      <td>0.0</td>\n",
              "      <td>1</td>\n",
              "      <td>0</td>\n",
              "    </tr>\n",
              "    <tr>\n",
              "      <th>4</th>\n",
              "      <td>1</td>\n",
              "      <td>PAYMENT</td>\n",
              "      <td>11668.14</td>\n",
              "      <td>C2048537720</td>\n",
              "      <td>41554.0</td>\n",
              "      <td>29885.86</td>\n",
              "      <td>M1230701703</td>\n",
              "      <td>0.0</td>\n",
              "      <td>0.0</td>\n",
              "      <td>0</td>\n",
              "      <td>0</td>\n",
              "    </tr>\n",
              "  </tbody>\n",
              "</table>\n",
              "</div>\n",
              "      <button class=\"colab-df-convert\" onclick=\"convertToInteractive('df-9adb493b-7dc0-44ea-928b-38772eac6968')\"\n",
              "              title=\"Convert this dataframe to an interactive table.\"\n",
              "              style=\"display:none;\">\n",
              "        \n",
              "  <svg xmlns=\"http://www.w3.org/2000/svg\" height=\"24px\"viewBox=\"0 0 24 24\"\n",
              "       width=\"24px\">\n",
              "    <path d=\"M0 0h24v24H0V0z\" fill=\"none\"/>\n",
              "    <path d=\"M18.56 5.44l.94 2.06.94-2.06 2.06-.94-2.06-.94-.94-2.06-.94 2.06-2.06.94zm-11 1L8.5 8.5l.94-2.06 2.06-.94-2.06-.94L8.5 2.5l-.94 2.06-2.06.94zm10 10l.94 2.06.94-2.06 2.06-.94-2.06-.94-.94-2.06-.94 2.06-2.06.94z\"/><path d=\"M17.41 7.96l-1.37-1.37c-.4-.4-.92-.59-1.43-.59-.52 0-1.04.2-1.43.59L10.3 9.45l-7.72 7.72c-.78.78-.78 2.05 0 2.83L4 21.41c.39.39.9.59 1.41.59.51 0 1.02-.2 1.41-.59l7.78-7.78 2.81-2.81c.8-.78.8-2.07 0-2.86zM5.41 20L4 18.59l7.72-7.72 1.47 1.35L5.41 20z\"/>\n",
              "  </svg>\n",
              "      </button>\n",
              "      \n",
              "  <style>\n",
              "    .colab-df-container {\n",
              "      display:flex;\n",
              "      flex-wrap:wrap;\n",
              "      gap: 12px;\n",
              "    }\n",
              "\n",
              "    .colab-df-convert {\n",
              "      background-color: #E8F0FE;\n",
              "      border: none;\n",
              "      border-radius: 50%;\n",
              "      cursor: pointer;\n",
              "      display: none;\n",
              "      fill: #1967D2;\n",
              "      height: 32px;\n",
              "      padding: 0 0 0 0;\n",
              "      width: 32px;\n",
              "    }\n",
              "\n",
              "    .colab-df-convert:hover {\n",
              "      background-color: #E2EBFA;\n",
              "      box-shadow: 0px 1px 2px rgba(60, 64, 67, 0.3), 0px 1px 3px 1px rgba(60, 64, 67, 0.15);\n",
              "      fill: #174EA6;\n",
              "    }\n",
              "\n",
              "    [theme=dark] .colab-df-convert {\n",
              "      background-color: #3B4455;\n",
              "      fill: #D2E3FC;\n",
              "    }\n",
              "\n",
              "    [theme=dark] .colab-df-convert:hover {\n",
              "      background-color: #434B5C;\n",
              "      box-shadow: 0px 1px 3px 1px rgba(0, 0, 0, 0.15);\n",
              "      filter: drop-shadow(0px 1px 2px rgba(0, 0, 0, 0.3));\n",
              "      fill: #FFFFFF;\n",
              "    }\n",
              "  </style>\n",
              "\n",
              "      <script>\n",
              "        const buttonEl =\n",
              "          document.querySelector('#df-9adb493b-7dc0-44ea-928b-38772eac6968 button.colab-df-convert');\n",
              "        buttonEl.style.display =\n",
              "          google.colab.kernel.accessAllowed ? 'block' : 'none';\n",
              "\n",
              "        async function convertToInteractive(key) {\n",
              "          const element = document.querySelector('#df-9adb493b-7dc0-44ea-928b-38772eac6968');\n",
              "          const dataTable =\n",
              "            await google.colab.kernel.invokeFunction('convertToInteractive',\n",
              "                                                     [key], {});\n",
              "          if (!dataTable) return;\n",
              "\n",
              "          const docLinkHtml = 'Like what you see? Visit the ' +\n",
              "            '<a target=\"_blank\" href=https://colab.research.google.com/notebooks/data_table.ipynb>data table notebook</a>'\n",
              "            + ' to learn more about interactive tables.';\n",
              "          element.innerHTML = '';\n",
              "          dataTable['output_type'] = 'display_data';\n",
              "          await google.colab.output.renderOutput(dataTable, element);\n",
              "          const docLink = document.createElement('div');\n",
              "          docLink.innerHTML = docLinkHtml;\n",
              "          element.appendChild(docLink);\n",
              "        }\n",
              "      </script>\n",
              "    </div>\n",
              "  </div>\n",
              "  "
            ],
            "text/plain": [
              "   step      type    amount  ... newbalanceDest  isFraud  isFlaggedFraud\n",
              "0     1   PAYMENT   9839.64  ...            0.0        0               0\n",
              "1     1   PAYMENT   1864.28  ...            0.0        0               0\n",
              "2     1  TRANSFER    181.00  ...            0.0        1               0\n",
              "3     1  CASH_OUT    181.00  ...            0.0        1               0\n",
              "4     1   PAYMENT  11668.14  ...            0.0        0               0\n",
              "\n",
              "[5 rows x 11 columns]"
            ]
          },
          "metadata": {},
          "execution_count": 3
        }
      ]
    },
    {
      "cell_type": "markdown",
      "source": [
        "# EDA on Dataset"
      ],
      "metadata": {
        "id": "NYhSnQiUG9iK"
      }
    },
    {
      "cell_type": "markdown",
      "source": [
        "Checking for NULL Values"
      ],
      "metadata": {
        "id": "lg1o749j2G41"
      }
    },
    {
      "cell_type": "code",
      "source": [
        "df.isnull().values.any()"
      ],
      "metadata": {
        "colab": {
          "base_uri": "https://localhost:8080/"
        },
        "id": "uid5P1T21YIo",
        "outputId": "96152eb2-0ffb-49f1-b573-1aa54ccc6fdc"
      },
      "execution_count": null,
      "outputs": [
        {
          "output_type": "execute_result",
          "data": {
            "text/plain": [
              "False"
            ]
          },
          "metadata": {},
          "execution_count": 5
        }
      ]
    },
    {
      "cell_type": "markdown",
      "source": [
        "Count number of unique Transaction IDs"
      ],
      "metadata": {
        "id": "-6EZu1Yt2LYP"
      }
    },
    {
      "cell_type": "code",
      "source": [
        "types = list(df.nameOrig.values)"
      ],
      "metadata": {
        "id": "3q1QEuoau9Yv"
      },
      "execution_count": null,
      "outputs": []
    },
    {
      "cell_type": "code",
      "source": [
        "len(types)"
      ],
      "metadata": {
        "colab": {
          "base_uri": "https://localhost:8080/"
        },
        "id": "JztiI-imKpCw",
        "outputId": "5385dbb0-20a2-4abb-9f0e-ef01606d3f1f"
      },
      "execution_count": null,
      "outputs": [
        {
          "output_type": "execute_result",
          "data": {
            "text/plain": [
              "6362620"
            ]
          },
          "metadata": {},
          "execution_count": 7
        }
      ]
    },
    {
      "cell_type": "code",
      "source": [
        "unq_type = list(set(types))\n",
        "\n",
        "len(unq_type)"
      ],
      "metadata": {
        "colab": {
          "base_uri": "https://localhost:8080/"
        },
        "id": "xouTmBm4viN8",
        "outputId": "3ac98afc-3a4e-42ed-ccc4-52cea00c5a7a"
      },
      "execution_count": null,
      "outputs": [
        {
          "output_type": "execute_result",
          "data": {
            "text/plain": [
              "6353307"
            ]
          },
          "metadata": {},
          "execution_count": 8
        }
      ]
    },
    {
      "cell_type": "markdown",
      "source": [
        "Statistical Analysis of Dataset"
      ],
      "metadata": {
        "id": "PynVRDfv2RZp"
      }
    },
    {
      "cell_type": "code",
      "source": [
        "df.describe()"
      ],
      "metadata": {
        "colab": {
          "base_uri": "https://localhost:8080/",
          "height": 364
        },
        "id": "Zu8pXYNC1Ab4",
        "outputId": "01585a69-a3c2-411a-a5f3-f5029c830fcc"
      },
      "execution_count": null,
      "outputs": [
        {
          "output_type": "execute_result",
          "data": {
            "text/html": [
              "\n",
              "  <div id=\"df-6fa62c7b-2944-4404-b484-a01eb8517389\">\n",
              "    <div class=\"colab-df-container\">\n",
              "      <div>\n",
              "<style scoped>\n",
              "    .dataframe tbody tr th:only-of-type {\n",
              "        vertical-align: middle;\n",
              "    }\n",
              "\n",
              "    .dataframe tbody tr th {\n",
              "        vertical-align: top;\n",
              "    }\n",
              "\n",
              "    .dataframe thead th {\n",
              "        text-align: right;\n",
              "    }\n",
              "</style>\n",
              "<table border=\"1\" class=\"dataframe\">\n",
              "  <thead>\n",
              "    <tr style=\"text-align: right;\">\n",
              "      <th></th>\n",
              "      <th>step</th>\n",
              "      <th>amount</th>\n",
              "      <th>oldbalanceOrg</th>\n",
              "      <th>newbalanceOrig</th>\n",
              "      <th>oldbalanceDest</th>\n",
              "      <th>newbalanceDest</th>\n",
              "      <th>isFraud</th>\n",
              "      <th>isFlaggedFraud</th>\n",
              "    </tr>\n",
              "  </thead>\n",
              "  <tbody>\n",
              "    <tr>\n",
              "      <th>count</th>\n",
              "      <td>6.362620e+06</td>\n",
              "      <td>6.362620e+06</td>\n",
              "      <td>6.362620e+06</td>\n",
              "      <td>6.362620e+06</td>\n",
              "      <td>6.362620e+06</td>\n",
              "      <td>6.362620e+06</td>\n",
              "      <td>6.362620e+06</td>\n",
              "      <td>6.362620e+06</td>\n",
              "    </tr>\n",
              "    <tr>\n",
              "      <th>mean</th>\n",
              "      <td>2.433972e+02</td>\n",
              "      <td>1.798619e+05</td>\n",
              "      <td>8.338831e+05</td>\n",
              "      <td>8.551137e+05</td>\n",
              "      <td>1.100702e+06</td>\n",
              "      <td>1.224996e+06</td>\n",
              "      <td>1.290820e-03</td>\n",
              "      <td>2.514687e-06</td>\n",
              "    </tr>\n",
              "    <tr>\n",
              "      <th>std</th>\n",
              "      <td>1.423320e+02</td>\n",
              "      <td>6.038582e+05</td>\n",
              "      <td>2.888243e+06</td>\n",
              "      <td>2.924049e+06</td>\n",
              "      <td>3.399180e+06</td>\n",
              "      <td>3.674129e+06</td>\n",
              "      <td>3.590480e-02</td>\n",
              "      <td>1.585775e-03</td>\n",
              "    </tr>\n",
              "    <tr>\n",
              "      <th>min</th>\n",
              "      <td>1.000000e+00</td>\n",
              "      <td>0.000000e+00</td>\n",
              "      <td>0.000000e+00</td>\n",
              "      <td>0.000000e+00</td>\n",
              "      <td>0.000000e+00</td>\n",
              "      <td>0.000000e+00</td>\n",
              "      <td>0.000000e+00</td>\n",
              "      <td>0.000000e+00</td>\n",
              "    </tr>\n",
              "    <tr>\n",
              "      <th>25%</th>\n",
              "      <td>1.560000e+02</td>\n",
              "      <td>1.338957e+04</td>\n",
              "      <td>0.000000e+00</td>\n",
              "      <td>0.000000e+00</td>\n",
              "      <td>0.000000e+00</td>\n",
              "      <td>0.000000e+00</td>\n",
              "      <td>0.000000e+00</td>\n",
              "      <td>0.000000e+00</td>\n",
              "    </tr>\n",
              "    <tr>\n",
              "      <th>50%</th>\n",
              "      <td>2.390000e+02</td>\n",
              "      <td>7.487194e+04</td>\n",
              "      <td>1.420800e+04</td>\n",
              "      <td>0.000000e+00</td>\n",
              "      <td>1.327057e+05</td>\n",
              "      <td>2.146614e+05</td>\n",
              "      <td>0.000000e+00</td>\n",
              "      <td>0.000000e+00</td>\n",
              "    </tr>\n",
              "    <tr>\n",
              "      <th>75%</th>\n",
              "      <td>3.350000e+02</td>\n",
              "      <td>2.087215e+05</td>\n",
              "      <td>1.073152e+05</td>\n",
              "      <td>1.442584e+05</td>\n",
              "      <td>9.430367e+05</td>\n",
              "      <td>1.111909e+06</td>\n",
              "      <td>0.000000e+00</td>\n",
              "      <td>0.000000e+00</td>\n",
              "    </tr>\n",
              "    <tr>\n",
              "      <th>max</th>\n",
              "      <td>7.430000e+02</td>\n",
              "      <td>9.244552e+07</td>\n",
              "      <td>5.958504e+07</td>\n",
              "      <td>4.958504e+07</td>\n",
              "      <td>3.560159e+08</td>\n",
              "      <td>3.561793e+08</td>\n",
              "      <td>1.000000e+00</td>\n",
              "      <td>1.000000e+00</td>\n",
              "    </tr>\n",
              "  </tbody>\n",
              "</table>\n",
              "</div>\n",
              "      <button class=\"colab-df-convert\" onclick=\"convertToInteractive('df-6fa62c7b-2944-4404-b484-a01eb8517389')\"\n",
              "              title=\"Convert this dataframe to an interactive table.\"\n",
              "              style=\"display:none;\">\n",
              "        \n",
              "  <svg xmlns=\"http://www.w3.org/2000/svg\" height=\"24px\"viewBox=\"0 0 24 24\"\n",
              "       width=\"24px\">\n",
              "    <path d=\"M0 0h24v24H0V0z\" fill=\"none\"/>\n",
              "    <path d=\"M18.56 5.44l.94 2.06.94-2.06 2.06-.94-2.06-.94-.94-2.06-.94 2.06-2.06.94zm-11 1L8.5 8.5l.94-2.06 2.06-.94-2.06-.94L8.5 2.5l-.94 2.06-2.06.94zm10 10l.94 2.06.94-2.06 2.06-.94-2.06-.94-.94-2.06-.94 2.06-2.06.94z\"/><path d=\"M17.41 7.96l-1.37-1.37c-.4-.4-.92-.59-1.43-.59-.52 0-1.04.2-1.43.59L10.3 9.45l-7.72 7.72c-.78.78-.78 2.05 0 2.83L4 21.41c.39.39.9.59 1.41.59.51 0 1.02-.2 1.41-.59l7.78-7.78 2.81-2.81c.8-.78.8-2.07 0-2.86zM5.41 20L4 18.59l7.72-7.72 1.47 1.35L5.41 20z\"/>\n",
              "  </svg>\n",
              "      </button>\n",
              "      \n",
              "  <style>\n",
              "    .colab-df-container {\n",
              "      display:flex;\n",
              "      flex-wrap:wrap;\n",
              "      gap: 12px;\n",
              "    }\n",
              "\n",
              "    .colab-df-convert {\n",
              "      background-color: #E8F0FE;\n",
              "      border: none;\n",
              "      border-radius: 50%;\n",
              "      cursor: pointer;\n",
              "      display: none;\n",
              "      fill: #1967D2;\n",
              "      height: 32px;\n",
              "      padding: 0 0 0 0;\n",
              "      width: 32px;\n",
              "    }\n",
              "\n",
              "    .colab-df-convert:hover {\n",
              "      background-color: #E2EBFA;\n",
              "      box-shadow: 0px 1px 2px rgba(60, 64, 67, 0.3), 0px 1px 3px 1px rgba(60, 64, 67, 0.15);\n",
              "      fill: #174EA6;\n",
              "    }\n",
              "\n",
              "    [theme=dark] .colab-df-convert {\n",
              "      background-color: #3B4455;\n",
              "      fill: #D2E3FC;\n",
              "    }\n",
              "\n",
              "    [theme=dark] .colab-df-convert:hover {\n",
              "      background-color: #434B5C;\n",
              "      box-shadow: 0px 1px 3px 1px rgba(0, 0, 0, 0.15);\n",
              "      filter: drop-shadow(0px 1px 2px rgba(0, 0, 0, 0.3));\n",
              "      fill: #FFFFFF;\n",
              "    }\n",
              "  </style>\n",
              "\n",
              "      <script>\n",
              "        const buttonEl =\n",
              "          document.querySelector('#df-6fa62c7b-2944-4404-b484-a01eb8517389 button.colab-df-convert');\n",
              "        buttonEl.style.display =\n",
              "          google.colab.kernel.accessAllowed ? 'block' : 'none';\n",
              "\n",
              "        async function convertToInteractive(key) {\n",
              "          const element = document.querySelector('#df-6fa62c7b-2944-4404-b484-a01eb8517389');\n",
              "          const dataTable =\n",
              "            await google.colab.kernel.invokeFunction('convertToInteractive',\n",
              "                                                     [key], {});\n",
              "          if (!dataTable) return;\n",
              "\n",
              "          const docLinkHtml = 'Like what you see? Visit the ' +\n",
              "            '<a target=\"_blank\" href=https://colab.research.google.com/notebooks/data_table.ipynb>data table notebook</a>'\n",
              "            + ' to learn more about interactive tables.';\n",
              "          element.innerHTML = '';\n",
              "          dataTable['output_type'] = 'display_data';\n",
              "          await google.colab.output.renderOutput(dataTable, element);\n",
              "          const docLink = document.createElement('div');\n",
              "          docLink.innerHTML = docLinkHtml;\n",
              "          element.appendChild(docLink);\n",
              "        }\n",
              "      </script>\n",
              "    </div>\n",
              "  </div>\n",
              "  "
            ],
            "text/plain": [
              "               step        amount  ...       isFraud  isFlaggedFraud\n",
              "count  6.362620e+06  6.362620e+06  ...  6.362620e+06    6.362620e+06\n",
              "mean   2.433972e+02  1.798619e+05  ...  1.290820e-03    2.514687e-06\n",
              "std    1.423320e+02  6.038582e+05  ...  3.590480e-02    1.585775e-03\n",
              "min    1.000000e+00  0.000000e+00  ...  0.000000e+00    0.000000e+00\n",
              "25%    1.560000e+02  1.338957e+04  ...  0.000000e+00    0.000000e+00\n",
              "50%    2.390000e+02  7.487194e+04  ...  0.000000e+00    0.000000e+00\n",
              "75%    3.350000e+02  2.087215e+05  ...  0.000000e+00    0.000000e+00\n",
              "max    7.430000e+02  9.244552e+07  ...  1.000000e+00    1.000000e+00\n",
              "\n",
              "[8 rows x 8 columns]"
            ]
          },
          "metadata": {},
          "execution_count": 9
        }
      ]
    },
    {
      "cell_type": "code",
      "source": [
        "df.info()"
      ],
      "metadata": {
        "colab": {
          "base_uri": "https://localhost:8080/"
        },
        "id": "spDsu2I75JIz",
        "outputId": "b46eee8d-5c54-4d13-a0b3-fb230e95391e"
      },
      "execution_count": null,
      "outputs": [
        {
          "output_type": "stream",
          "name": "stdout",
          "text": [
            "<class 'pandas.core.frame.DataFrame'>\n",
            "RangeIndex: 6362620 entries, 0 to 6362619\n",
            "Data columns (total 11 columns):\n",
            " #   Column          Dtype  \n",
            "---  ------          -----  \n",
            " 0   step            int64  \n",
            " 1   type            object \n",
            " 2   amount          float64\n",
            " 3   nameOrig        object \n",
            " 4   oldbalanceOrg   float64\n",
            " 5   newbalanceOrig  float64\n",
            " 6   nameDest        object \n",
            " 7   oldbalanceDest  float64\n",
            " 8   newbalanceDest  float64\n",
            " 9   isFraud         int64  \n",
            " 10  isFlaggedFraud  int64  \n",
            "dtypes: float64(5), int64(3), object(3)\n",
            "memory usage: 534.0+ MB\n"
          ]
        }
      ]
    },
    {
      "cell_type": "code",
      "source": [
        "df['nameDest'].value_counts().sort_values(ascending=False).head(10)"
      ],
      "metadata": {
        "colab": {
          "base_uri": "https://localhost:8080/"
        },
        "id": "CbePcs2vIdDw",
        "outputId": "cfd5be25-6fca-465f-e029-23a85daab933"
      },
      "execution_count": null,
      "outputs": [
        {
          "output_type": "execute_result",
          "data": {
            "text/plain": [
              "C1286084959    113\n",
              "C985934102     109\n",
              "C665576141     105\n",
              "C2083562754    102\n",
              "C1590550415    101\n",
              "C248609774     101\n",
              "C451111351      99\n",
              "C1789550256     99\n",
              "C1360767589     98\n",
              "C1023714065     97\n",
              "Name: nameDest, dtype: int64"
            ]
          },
          "metadata": {},
          "execution_count": 82
        }
      ]
    },
    {
      "cell_type": "markdown",
      "source": [
        "Checking which type of transactions are fraudulent"
      ],
      "metadata": {
        "id": "kJ9ARDE42Zen"
      }
    },
    {
      "cell_type": "code",
      "source": [
        "print('The types of fraudulent transactions are {}'.format(\\\n",
        "list(df.loc[df.isFraud == 1].type.drop_duplicates().values))) \n"
      ],
      "metadata": {
        "colab": {
          "base_uri": "https://localhost:8080/"
        },
        "id": "ar4zGhk7vzWy",
        "outputId": "ac073190-fe4c-4546-a380-5fafdccead71"
      },
      "execution_count": null,
      "outputs": [
        {
          "output_type": "stream",
          "name": "stdout",
          "text": [
            "The types of fraudulent transactions are ['TRANSFER', 'CASH_OUT']\n"
          ]
        }
      ]
    },
    {
      "cell_type": "code",
      "source": [
        "dfFraudTransfer = df.loc[(df.isFraud == 1) & (df.type == 'TRANSFER')]\n",
        "dfFraudCashout = df.loc[(df.isFraud == 1) & (df.type == 'CASH_OUT')]\n",
        "\n",
        "print ('The number of fraudulent TRANSFERs = {}'.\\\n",
        "       format(len(dfFraudTransfer)))\n",
        "\n",
        "print ('The number of fraudulent CASH_OUTs = {}'.\\\n",
        "       format(len(dfFraudCashout))) "
      ],
      "metadata": {
        "colab": {
          "base_uri": "https://localhost:8080/"
        },
        "id": "bGAZMUY91yl4",
        "outputId": "1736ca32-e7dd-481d-f184-b0baa9b81afb"
      },
      "execution_count": null,
      "outputs": [
        {
          "output_type": "stream",
          "name": "stdout",
          "text": [
            "The number of fraudulent TRANSFERs = 4097\n",
            "The number of fraudulent CASH_OUTs = 4116\n"
          ]
        }
      ]
    },
    {
      "cell_type": "code",
      "source": [
        "print('The type of transactions in which isFlaggedFraud is set: \\\n",
        "{}'.format(list(df.loc[df.isFlaggedFraud == 1].type.drop_duplicates()))) \n",
        "                                                          "
      ],
      "metadata": {
        "colab": {
          "base_uri": "https://localhost:8080/"
        },
        "id": "TJnMXUV2vfK8",
        "outputId": "999bb274-702f-436d-e169-e87843b8c9ab"
      },
      "execution_count": null,
      "outputs": [
        {
          "output_type": "stream",
          "name": "stdout",
          "text": [
            "The type of transactions in which isFlaggedFraud is set: ['TRANSFER']\n"
          ]
        }
      ]
    },
    {
      "cell_type": "code",
      "source": [
        "dfTransfer = df.loc[df.type == 'TRANSFER']\n",
        "dfFlagged = df.loc[df.isFlaggedFraud == 1]\n",
        "dfNotFlagged = df.loc[df.isFlaggedFraud == 0]\n",
        "\n",
        "print('Min amount transacted when isFlaggedFraud is set= {}'\\\n",
        "                                  .format(dfFlagged.amount.min())) \n",
        "\n",
        "print('Max amount transacted in a TRANSFER where isFlaggedFraud is not set=\\\n",
        " {}'.format(dfTransfer.loc[dfTransfer.isFlaggedFraud == 0].amount.max())) "
      ],
      "metadata": {
        "colab": {
          "base_uri": "https://localhost:8080/"
        },
        "id": "Gsk_20gjvmW7",
        "outputId": "4cf908d3-64c5-4a05-8ce9-e1ca1f0a346b"
      },
      "execution_count": null,
      "outputs": [
        {
          "output_type": "stream",
          "name": "stdout",
          "text": [
            "Min amount transacted when isFlaggedFraud is set= 353874.22\n",
            "Max amount transacted in a TRANSFER where isFlaggedFraud is not set= 92445516.64\n"
          ]
        }
      ]
    },
    {
      "cell_type": "code",
      "source": [
        "dfTransfer"
      ],
      "metadata": {
        "colab": {
          "base_uri": "https://localhost:8080/",
          "height": 488
        },
        "id": "A9_qJpWlCWVB",
        "outputId": "7bda0c03-3e86-4f99-8303-389b4f50d528"
      },
      "execution_count": null,
      "outputs": [
        {
          "output_type": "execute_result",
          "data": {
            "text/html": [
              "\n",
              "  <div id=\"df-ee5846ff-072d-41de-8466-00a71175d75f\">\n",
              "    <div class=\"colab-df-container\">\n",
              "      <div>\n",
              "<style scoped>\n",
              "    .dataframe tbody tr th:only-of-type {\n",
              "        vertical-align: middle;\n",
              "    }\n",
              "\n",
              "    .dataframe tbody tr th {\n",
              "        vertical-align: top;\n",
              "    }\n",
              "\n",
              "    .dataframe thead th {\n",
              "        text-align: right;\n",
              "    }\n",
              "</style>\n",
              "<table border=\"1\" class=\"dataframe\">\n",
              "  <thead>\n",
              "    <tr style=\"text-align: right;\">\n",
              "      <th></th>\n",
              "      <th>step</th>\n",
              "      <th>type</th>\n",
              "      <th>amount</th>\n",
              "      <th>nameOrig</th>\n",
              "      <th>oldbalanceOrg</th>\n",
              "      <th>newbalanceOrig</th>\n",
              "      <th>nameDest</th>\n",
              "      <th>oldbalanceDest</th>\n",
              "      <th>newbalanceDest</th>\n",
              "      <th>isFraud</th>\n",
              "      <th>isFlaggedFraud</th>\n",
              "    </tr>\n",
              "  </thead>\n",
              "  <tbody>\n",
              "    <tr>\n",
              "      <th>2</th>\n",
              "      <td>1</td>\n",
              "      <td>TRANSFER</td>\n",
              "      <td>181.00</td>\n",
              "      <td>C1305486145</td>\n",
              "      <td>181.00</td>\n",
              "      <td>0.0</td>\n",
              "      <td>C553264065</td>\n",
              "      <td>0.00</td>\n",
              "      <td>0.00</td>\n",
              "      <td>1</td>\n",
              "      <td>0</td>\n",
              "    </tr>\n",
              "    <tr>\n",
              "      <th>19</th>\n",
              "      <td>1</td>\n",
              "      <td>TRANSFER</td>\n",
              "      <td>215310.30</td>\n",
              "      <td>C1670993182</td>\n",
              "      <td>705.00</td>\n",
              "      <td>0.0</td>\n",
              "      <td>C1100439041</td>\n",
              "      <td>22425.00</td>\n",
              "      <td>0.00</td>\n",
              "      <td>0</td>\n",
              "      <td>0</td>\n",
              "    </tr>\n",
              "    <tr>\n",
              "      <th>24</th>\n",
              "      <td>1</td>\n",
              "      <td>TRANSFER</td>\n",
              "      <td>311685.89</td>\n",
              "      <td>C1984094095</td>\n",
              "      <td>10835.00</td>\n",
              "      <td>0.0</td>\n",
              "      <td>C932583850</td>\n",
              "      <td>6267.00</td>\n",
              "      <td>2719172.89</td>\n",
              "      <td>0</td>\n",
              "      <td>0</td>\n",
              "    </tr>\n",
              "    <tr>\n",
              "      <th>58</th>\n",
              "      <td>1</td>\n",
              "      <td>TRANSFER</td>\n",
              "      <td>62610.80</td>\n",
              "      <td>C1976401987</td>\n",
              "      <td>79114.00</td>\n",
              "      <td>16503.2</td>\n",
              "      <td>C1937962514</td>\n",
              "      <td>517.00</td>\n",
              "      <td>8383.29</td>\n",
              "      <td>0</td>\n",
              "      <td>0</td>\n",
              "    </tr>\n",
              "    <tr>\n",
              "      <th>78</th>\n",
              "      <td>1</td>\n",
              "      <td>TRANSFER</td>\n",
              "      <td>42712.39</td>\n",
              "      <td>C283039401</td>\n",
              "      <td>10363.39</td>\n",
              "      <td>0.0</td>\n",
              "      <td>C1330106945</td>\n",
              "      <td>57901.66</td>\n",
              "      <td>24044.18</td>\n",
              "      <td>0</td>\n",
              "      <td>0</td>\n",
              "    </tr>\n",
              "    <tr>\n",
              "      <th>...</th>\n",
              "      <td>...</td>\n",
              "      <td>...</td>\n",
              "      <td>...</td>\n",
              "      <td>...</td>\n",
              "      <td>...</td>\n",
              "      <td>...</td>\n",
              "      <td>...</td>\n",
              "      <td>...</td>\n",
              "      <td>...</td>\n",
              "      <td>...</td>\n",
              "      <td>...</td>\n",
              "    </tr>\n",
              "    <tr>\n",
              "      <th>6362610</th>\n",
              "      <td>742</td>\n",
              "      <td>TRANSFER</td>\n",
              "      <td>63416.99</td>\n",
              "      <td>C778071008</td>\n",
              "      <td>63416.99</td>\n",
              "      <td>0.0</td>\n",
              "      <td>C1812552860</td>\n",
              "      <td>0.00</td>\n",
              "      <td>0.00</td>\n",
              "      <td>1</td>\n",
              "      <td>0</td>\n",
              "    </tr>\n",
              "    <tr>\n",
              "      <th>6362612</th>\n",
              "      <td>743</td>\n",
              "      <td>TRANSFER</td>\n",
              "      <td>1258818.82</td>\n",
              "      <td>C1531301470</td>\n",
              "      <td>1258818.82</td>\n",
              "      <td>0.0</td>\n",
              "      <td>C1470998563</td>\n",
              "      <td>0.00</td>\n",
              "      <td>0.00</td>\n",
              "      <td>1</td>\n",
              "      <td>0</td>\n",
              "    </tr>\n",
              "    <tr>\n",
              "      <th>6362614</th>\n",
              "      <td>743</td>\n",
              "      <td>TRANSFER</td>\n",
              "      <td>339682.13</td>\n",
              "      <td>C2013999242</td>\n",
              "      <td>339682.13</td>\n",
              "      <td>0.0</td>\n",
              "      <td>C1850423904</td>\n",
              "      <td>0.00</td>\n",
              "      <td>0.00</td>\n",
              "      <td>1</td>\n",
              "      <td>0</td>\n",
              "    </tr>\n",
              "    <tr>\n",
              "      <th>6362616</th>\n",
              "      <td>743</td>\n",
              "      <td>TRANSFER</td>\n",
              "      <td>6311409.28</td>\n",
              "      <td>C1529008245</td>\n",
              "      <td>6311409.28</td>\n",
              "      <td>0.0</td>\n",
              "      <td>C1881841831</td>\n",
              "      <td>0.00</td>\n",
              "      <td>0.00</td>\n",
              "      <td>1</td>\n",
              "      <td>0</td>\n",
              "    </tr>\n",
              "    <tr>\n",
              "      <th>6362618</th>\n",
              "      <td>743</td>\n",
              "      <td>TRANSFER</td>\n",
              "      <td>850002.52</td>\n",
              "      <td>C1685995037</td>\n",
              "      <td>850002.52</td>\n",
              "      <td>0.0</td>\n",
              "      <td>C2080388513</td>\n",
              "      <td>0.00</td>\n",
              "      <td>0.00</td>\n",
              "      <td>1</td>\n",
              "      <td>0</td>\n",
              "    </tr>\n",
              "  </tbody>\n",
              "</table>\n",
              "<p>532909 rows × 11 columns</p>\n",
              "</div>\n",
              "      <button class=\"colab-df-convert\" onclick=\"convertToInteractive('df-ee5846ff-072d-41de-8466-00a71175d75f')\"\n",
              "              title=\"Convert this dataframe to an interactive table.\"\n",
              "              style=\"display:none;\">\n",
              "        \n",
              "  <svg xmlns=\"http://www.w3.org/2000/svg\" height=\"24px\"viewBox=\"0 0 24 24\"\n",
              "       width=\"24px\">\n",
              "    <path d=\"M0 0h24v24H0V0z\" fill=\"none\"/>\n",
              "    <path d=\"M18.56 5.44l.94 2.06.94-2.06 2.06-.94-2.06-.94-.94-2.06-.94 2.06-2.06.94zm-11 1L8.5 8.5l.94-2.06 2.06-.94-2.06-.94L8.5 2.5l-.94 2.06-2.06.94zm10 10l.94 2.06.94-2.06 2.06-.94-2.06-.94-.94-2.06-.94 2.06-2.06.94z\"/><path d=\"M17.41 7.96l-1.37-1.37c-.4-.4-.92-.59-1.43-.59-.52 0-1.04.2-1.43.59L10.3 9.45l-7.72 7.72c-.78.78-.78 2.05 0 2.83L4 21.41c.39.39.9.59 1.41.59.51 0 1.02-.2 1.41-.59l7.78-7.78 2.81-2.81c.8-.78.8-2.07 0-2.86zM5.41 20L4 18.59l7.72-7.72 1.47 1.35L5.41 20z\"/>\n",
              "  </svg>\n",
              "      </button>\n",
              "      \n",
              "  <style>\n",
              "    .colab-df-container {\n",
              "      display:flex;\n",
              "      flex-wrap:wrap;\n",
              "      gap: 12px;\n",
              "    }\n",
              "\n",
              "    .colab-df-convert {\n",
              "      background-color: #E8F0FE;\n",
              "      border: none;\n",
              "      border-radius: 50%;\n",
              "      cursor: pointer;\n",
              "      display: none;\n",
              "      fill: #1967D2;\n",
              "      height: 32px;\n",
              "      padding: 0 0 0 0;\n",
              "      width: 32px;\n",
              "    }\n",
              "\n",
              "    .colab-df-convert:hover {\n",
              "      background-color: #E2EBFA;\n",
              "      box-shadow: 0px 1px 2px rgba(60, 64, 67, 0.3), 0px 1px 3px 1px rgba(60, 64, 67, 0.15);\n",
              "      fill: #174EA6;\n",
              "    }\n",
              "\n",
              "    [theme=dark] .colab-df-convert {\n",
              "      background-color: #3B4455;\n",
              "      fill: #D2E3FC;\n",
              "    }\n",
              "\n",
              "    [theme=dark] .colab-df-convert:hover {\n",
              "      background-color: #434B5C;\n",
              "      box-shadow: 0px 1px 3px 1px rgba(0, 0, 0, 0.15);\n",
              "      filter: drop-shadow(0px 1px 2px rgba(0, 0, 0, 0.3));\n",
              "      fill: #FFFFFF;\n",
              "    }\n",
              "  </style>\n",
              "\n",
              "      <script>\n",
              "        const buttonEl =\n",
              "          document.querySelector('#df-ee5846ff-072d-41de-8466-00a71175d75f button.colab-df-convert');\n",
              "        buttonEl.style.display =\n",
              "          google.colab.kernel.accessAllowed ? 'block' : 'none';\n",
              "\n",
              "        async function convertToInteractive(key) {\n",
              "          const element = document.querySelector('#df-ee5846ff-072d-41de-8466-00a71175d75f');\n",
              "          const dataTable =\n",
              "            await google.colab.kernel.invokeFunction('convertToInteractive',\n",
              "                                                     [key], {});\n",
              "          if (!dataTable) return;\n",
              "\n",
              "          const docLinkHtml = 'Like what you see? Visit the ' +\n",
              "            '<a target=\"_blank\" href=https://colab.research.google.com/notebooks/data_table.ipynb>data table notebook</a>'\n",
              "            + ' to learn more about interactive tables.';\n",
              "          element.innerHTML = '';\n",
              "          dataTable['output_type'] = 'display_data';\n",
              "          await google.colab.output.renderOutput(dataTable, element);\n",
              "          const docLink = document.createElement('div');\n",
              "          docLink.innerHTML = docLinkHtml;\n",
              "          element.appendChild(docLink);\n",
              "        }\n",
              "      </script>\n",
              "    </div>\n",
              "  </div>\n",
              "  "
            ],
            "text/plain": [
              "         step      type      amount  ... newbalanceDest  isFraud  isFlaggedFraud\n",
              "2           1  TRANSFER      181.00  ...           0.00        1               0\n",
              "19          1  TRANSFER   215310.30  ...           0.00        0               0\n",
              "24          1  TRANSFER   311685.89  ...     2719172.89        0               0\n",
              "58          1  TRANSFER    62610.80  ...        8383.29        0               0\n",
              "78          1  TRANSFER    42712.39  ...       24044.18        0               0\n",
              "...       ...       ...         ...  ...            ...      ...             ...\n",
              "6362610   742  TRANSFER    63416.99  ...           0.00        1               0\n",
              "6362612   743  TRANSFER  1258818.82  ...           0.00        1               0\n",
              "6362614   743  TRANSFER   339682.13  ...           0.00        1               0\n",
              "6362616   743  TRANSFER  6311409.28  ...           0.00        1               0\n",
              "6362618   743  TRANSFER   850002.52  ...           0.00        1               0\n",
              "\n",
              "[532909 rows x 11 columns]"
            ]
          },
          "metadata": {},
          "execution_count": 40
        }
      ]
    },
    {
      "cell_type": "code",
      "source": [
        "print('The number of TRANSFERs where isFlaggedFraud = 0, yet oldBalanceDest = 0 and\\\n",
        " newBalanceDest = 0: {}'.\\\n",
        "format(len(dfTransfer.loc[(dfTransfer.isFlaggedFraud == 0) & \\\n",
        "(dfTransfer.oldbalanceDest == 0) & (dfTransfer.newbalanceDest == 0)])))"
      ],
      "metadata": {
        "id": "vKLF9Q4VwNBd",
        "colab": {
          "base_uri": "https://localhost:8080/"
        },
        "outputId": "7edf4cf1-12d5-4fe9-9f21-1a622498c1cb"
      },
      "execution_count": null,
      "outputs": [
        {
          "output_type": "stream",
          "name": "stdout",
          "text": [
            "\n",
            "The number of TRANSFERs where isFlaggedFraud = 0, yet oldBalanceDest = 0 and newBalanceDest = 0: 4158\n"
          ]
        }
      ]
    },
    {
      "cell_type": "code",
      "source": [
        "print('Min, Max of oldBalanceOrig for isFlaggedFraud = 1 TRANSFERs: {}'.\\\n",
        "format([round(dfFlagged.oldbalanceOrg.min()), round(dfFlagged.oldbalanceOrg.max())]))\n",
        "\n",
        "print('Min, Max of oldBalanceOrig for isFlaggedFraud = 0 TRANSFERs where \\\n",
        "oldBalanceOrig = \\\n",
        "newBalanceOrig: {}'.format(\\\n",
        "[dfTransfer.loc[(dfTransfer.isFlaggedFraud == 0) & (dfTransfer.oldbalanceOrg \\\n",
        "== dfTransfer.newbalanceOrig)].oldbalanceOrg.min(), \\\n",
        "round(dfTransfer.loc[(dfTransfer.isFlaggedFraud == 0) & (dfTransfer.oldbalanceOrg \\\n",
        "               == dfTransfer.newbalanceOrig)].oldbalanceOrg.max())]))"
      ],
      "metadata": {
        "id": "PAnDVtNOwdyl",
        "colab": {
          "base_uri": "https://localhost:8080/"
        },
        "outputId": "79d80a5a-dc4b-41b8-bb8d-2e2df71962cb"
      },
      "execution_count": null,
      "outputs": [
        {
          "output_type": "stream",
          "name": "stdout",
          "text": [
            "\n",
            "Min, Max of oldBalanceOrig for isFlaggedFraud = 1 TRANSFERs: [353874, 19585040]\n",
            "\n",
            "Min, Max of oldBalanceOrig for isFlaggedFraud = 0 TRANSFERs where oldBalanceOrig = newBalanceOrig: [0.0, 575668]\n"
          ]
        }
      ]
    },
    {
      "cell_type": "code",
      "source": [
        "print('Have originators of transactions flagged as fraud transacted more than \\\n",
        "once? {}'\\\n",
        ".format((dfFlagged.nameOrig.isin(pd.concat([dfNotFlagged.nameOrig, \\\n",
        "                                    dfNotFlagged.nameDest]))).any()))\n",
        "\n",
        "print('Have destinations for transactions flagged as fraud initiated\\\n",
        " other transactions? \\\n",
        "{}'.format((dfFlagged.nameDest.isin(dfNotFlagged.nameOrig)).any()))"
      ],
      "metadata": {
        "id": "L__qYOZtwnGV",
        "colab": {
          "base_uri": "https://localhost:8080/"
        },
        "outputId": "092f0145-7ca4-4e96-b70a-fe597acf2711"
      },
      "execution_count": null,
      "outputs": [
        {
          "output_type": "stream",
          "name": "stdout",
          "text": [
            "Have originators of transactions flagged as fraud transacted more than once? False\n",
            "Have destinations for transactions flagged as fraud initiated other transactions? False\n"
          ]
        }
      ]
    },
    {
      "cell_type": "code",
      "source": [
        "print('Within fraudulent transactions, are there destinations for TRANSFERS \\\n",
        "that are also originators for CASH_OUTs? {}'.format(\\\n",
        "(dfFraudTransfer.nameDest.isin(dfFraudCashout.nameOrig)).any()))\n",
        "dfNotFraud = df.loc[df.isFraud == 0]"
      ],
      "metadata": {
        "id": "0QLpr_6yxJWE",
        "colab": {
          "base_uri": "https://localhost:8080/"
        },
        "outputId": "f47b93ce-0e66-4614-a3d0-1e3a8928684f"
      },
      "execution_count": null,
      "outputs": [
        {
          "output_type": "stream",
          "name": "stdout",
          "text": [
            "Within fraudulent transactions, are there destinations for TRANSFERS that are also originators for CASH_OUTs? False\n"
          ]
        }
      ]
    },
    {
      "cell_type": "code",
      "source": [
        "# 'isFlaggedFraud' column analysis\n",
        "df_temp_Frag_verification = df[df['isFraud']==1]\n",
        "print(\"Total Fraud:\",df_temp_Frag_verification.shape[0])\n",
        "print(\"\\n\\n'isFraud'x'isFlaggedFraud' Analysis: \\n\\n\",(df_temp_Frag_verification.groupby(['isFraud','isFlaggedFraud'])['step'].size()))\n",
        "print(\"\\n'isFlaggedFraud' accuracity:\", (df[df['isFlaggedFraud']==1].shape[0]/df_temp_Frag_verification.shape[0]))"
      ],
      "metadata": {
        "colab": {
          "base_uri": "https://localhost:8080/"
        },
        "id": "As7wbpk-5nPj",
        "outputId": "5e7cbf69-2e5c-4246-a8f4-f6f45d57aa8a"
      },
      "execution_count": null,
      "outputs": [
        {
          "output_type": "stream",
          "name": "stdout",
          "text": [
            "Total Fraud: 8213\n",
            "\n",
            "\n",
            "'isFraud'x'isFlaggedFraud' Analysis: \n",
            "\n",
            " isFraud  isFlaggedFraud\n",
            "1        0                 8197\n",
            "         1                   16\n",
            "Name: step, dtype: int64\n",
            "\n",
            "'isFlaggedFraud' accuracity: 0.0019481310118105442\n"
          ]
        }
      ]
    },
    {
      "cell_type": "markdown",
      "source": [
        "# Data Cleaning"
      ],
      "metadata": {
        "id": "22nfWkI9xfdl"
      }
    },
    {
      "cell_type": "code",
      "source": [
        "X = df.loc[(df.type == 'TRANSFER') | (df.type == 'CASH_OUT')]\n",
        "\n",
        "randomState = 5\n",
        "np.random.seed(randomState)\n",
        "\n",
        "Y = X['isFraud']\n",
        "# del X['isFraud']\n",
        "\n",
        "# Eliminate columns irrelevant columns\n",
        "X = X.drop(['nameOrig', 'nameDest', 'isFlaggedFraud'], axis = 1)\n",
        "\n",
        "# Binary-encoding of labelled data in 'type'\n",
        "X.loc[X.type == 'TRANSFER', 'type'] = 0\n",
        "X.loc[X.type == 'CASH_OUT', 'type'] = 1\n",
        "X.type = X.type.astype(int) "
      ],
      "metadata": {
        "id": "84IAVUQNxhbN"
      },
      "execution_count": null,
      "outputs": []
    },
    {
      "cell_type": "code",
      "source": [
        "Xfraud = X.loc[Y == 1]\n",
        "XnonFraud = X.loc[Y == 0]\n",
        "print('The fraction of fraudulent transactions with \\'oldBalanceDest\\' = \\\n",
        "\\'newBalanceDest\\' = 0 although the transacted \\'amount\\' is non-zero is: {}'.\\\n",
        "format(len(Xfraud.loc[(Xfraud.oldbalanceDest == 0) & \\\n",
        "(Xfraud.newbalanceDest == 0) & (Xfraud.amount)]) / (1.0 * len(Xfraud))))\n",
        "\n",
        "print('The fraction of genuine transactions with \\'oldBalanceDest\\' = \\\n",
        "newBalanceDest\\' = 0 although the transacted \\'amount\\' is non-zero is: {}'.\\\n",
        "format(len(XnonFraud.loc[(XnonFraud.oldbalanceDest == 0) & \\\n",
        "(XnonFraud.newbalanceDest == 0) & (XnonFraud.amount)]) / (1.0 * len(XnonFraud))))"
      ],
      "metadata": {
        "id": "_LKVyeOXxq_8",
        "colab": {
          "base_uri": "https://localhost:8080/"
        },
        "outputId": "9208134d-0beb-4e04-b346-928ea5f0bfe5"
      },
      "execution_count": null,
      "outputs": [
        {
          "output_type": "stream",
          "name": "stdout",
          "text": [
            "The fraction of fraudulent transactions with 'oldBalanceDest' = 'newBalanceDest' = 0 although the transacted 'amount' is non-zero is: 0.4955558261293072\n",
            "The fraction of genuine transactions with 'oldBalanceDest' = newBalanceDest' = 0 although the transacted 'amount' is non-zero is: 0.0006176245277308345\n"
          ]
        }
      ]
    },
    {
      "cell_type": "code",
      "source": [
        "X.loc[(X.oldbalanceDest == 0) & (X.newbalanceDest == 0) & (X.amount != 0), \\\n",
        "      ['oldBalanceDest', 'newBalanceDest']] = - 1"
      ],
      "metadata": {
        "id": "dQt9ULRQxzGd"
      },
      "execution_count": null,
      "outputs": []
    },
    {
      "cell_type": "code",
      "source": [
        "X.loc[(X.oldbalanceOrg == 0) & (X.newbalanceOrig == 0) & (X.amount != 0), \\\n",
        "      ['oldbalanceOrg', 'newbalanceOrig']] = np.nan"
      ],
      "metadata": {
        "id": "RGDoQzoax4yN"
      },
      "execution_count": null,
      "outputs": []
    },
    {
      "cell_type": "code",
      "source": [
        "X.to_csv('/content/drive/MyDrive/Hackathon_ML-Model/filev2.csv')"
      ],
      "metadata": {
        "id": "pJvwzUKjKSaL"
      },
      "execution_count": null,
      "outputs": []
    },
    {
      "cell_type": "markdown",
      "source": [
        "# Visualisation"
      ],
      "metadata": {
        "id": "9y3RsmFIB-Gc"
      }
    },
    {
      "cell_type": "markdown",
      "source": [
        "## Ploting Data"
      ],
      "metadata": {
        "id": "BGiv6jgINcC6"
      }
    },
    {
      "cell_type": "code",
      "source": [
        "raw_data = df"
      ],
      "metadata": {
        "id": "CNIWBs-PCAoL"
      },
      "execution_count": null,
      "outputs": []
    },
    {
      "cell_type": "code",
      "source": [
        "print(raw_data.type.value_counts())\n",
        "\n",
        "f, ax = plt.subplots(1, 1, figsize=(8, 8))\n",
        "raw_data.type.value_counts().plot(kind='bar', title=\"Transaction type\", ax=ax, figsize=(8,8))\n",
        "plt.show()"
      ],
      "metadata": {
        "colab": {
          "base_uri": "https://localhost:8080/",
          "height": 646
        },
        "id": "CVvZjabRB_ii",
        "outputId": "d7e867ba-839d-41de-80fc-56ea97a6e1b2"
      },
      "execution_count": null,
      "outputs": [
        {
          "output_type": "stream",
          "name": "stdout",
          "text": [
            "CASH_OUT    2237500\n",
            "PAYMENT     2151495\n",
            "CASH_IN     1399284\n",
            "TRANSFER     532909\n",
            "DEBIT         41432\n",
            "Name: type, dtype: int64\n"
          ]
        },
        {
          "output_type": "display_data",
          "data": {
            "image/png": "[encoded data removed]",
            "text/plain": [
              "<Figure size 576x576 with 1 Axes>"
            ]
          },
          "metadata": {
            "needs_background": "light"
          }
        }
      ]
    },
    {
      "cell_type": "code",
      "source": [
        "ax = raw_data.groupby(['type', 'isFraud']).size().plot(kind='bar')\n",
        "ax.set_title(\"# of transaction which are the actual fraud per transaction type\")\n",
        "ax.set_xlabel(\"(Type, isFraud)\")\n",
        "ax.set_ylabel(\"Count of transaction\")\n",
        "for p in ax.patches:\n",
        "    ax.annotate(str(format(int(p.get_height()), ',d')), (p.get_x(), p.get_height()*1.01))"
      ],
      "metadata": {
        "colab": {
          "base_uri": "https://localhost:8080/",
          "height": 359
        },
        "id": "LQF5oBpwCUvs",
        "outputId": "532e05fd-f9bf-492c-bd57-4a8e2112f682"
      },
      "execution_count": null,
      "outputs": [
        {
          "output_type": "display_data",
          "data": {
            "image/png": "[encoded data removed]",
            "text/plain": [
              "<Figure size 432x288 with 1 Axes>"
            ]
          },
          "metadata": {
            "needs_background": "light"
          }
        }
      ]
    },
    {
      "cell_type": "code",
      "source": [
        "ax = raw_data.groupby(['type', 'isFlaggedFraud']).size().plot(kind='bar')\n",
        "ax.set_title(\"# of transaction which is flagged as fraud per transaction type\")\n",
        "ax.set_xlabel(\"(Type, isFlaggedFraud)\")\n",
        "ax.set_ylabel(\"Count of transaction\")\n",
        "for p in ax.patches:\n",
        "    ax.annotate(str(format(int(p.get_height()), ',d')), (p.get_x(), p.get_height()*1.01))"
      ],
      "metadata": {
        "colab": {
          "base_uri": "https://localhost:8080/",
          "height": 359
        },
        "id": "dw5bZlycCYDz",
        "outputId": "bba53514-208f-45d7-d5c8-5bb362c587d7"
      },
      "execution_count": null,
      "outputs": [
        {
          "output_type": "display_data",
          "data": {
            "image/png": "[encoded data removed]",
            "text/plain": [
              "<Figure size 432x288 with 1 Axes>"
            ]
          },
          "metadata": {
            "needs_background": "light"
          }
        }
      ]
    },
    {
      "cell_type": "code",
      "source": [
        "fig, axs = plt.subplots(1, 1, figsize=(10, 10))\n",
        "tmp = raw_data.loc[(raw_data.type == 'TRANSFER'), :]\n",
        "\n",
        "a = sns.regplot(x = 'oldbalanceOrg', y = 'amount', data=tmp.loc[(tmp.isFlaggedFraud ==1), :])\n",
        "plt.show()"
      ],
      "metadata": {
        "colab": {
          "base_uri": "https://localhost:8080/",
          "height": 616
        },
        "id": "bu9oThf6Cbrd",
        "outputId": "be5f1d66-00fd-4e20-8902-571f5412739c"
      },
      "execution_count": null,
      "outputs": [
        {
          "output_type": "display_data",
          "data": {
            "image/png": "[encoded data removed]",
            "text/plain": [
              "<Figure size 720x720 with 1 Axes>"
            ]
          },
          "metadata": {
            "needs_background": "light"
          }
        }
      ]
    },
    {
      "cell_type": "code",
      "source": [
        "sns.heatmap(tmp.corr())"
      ],
      "metadata": {
        "colab": {
          "base_uri": "https://localhost:8080/",
          "height": 359
        },
        "id": "Nggq66pKCqMT",
        "outputId": "39215088-e901-4f13-ed60-17e1eac651e3"
      },
      "execution_count": null,
      "outputs": [
        {
          "output_type": "execute_result",
          "data": {
            "text/plain": [
              "<matplotlib.axes._subplots.AxesSubplot at 0x7fa326c2ca90>"
            ]
          },
          "metadata": {},
          "execution_count": 98
        },
        {
          "output_type": "display_data",
          "data": {
            "image/png": "[encoded data removed]",
            "text/plain": [
              "<Figure size 432x288 with 2 Axes>"
            ]
          },
          "metadata": {
            "needs_background": "light"
          }
        }
      ]
    },
    {
      "cell_type": "code",
      "source": [
        "ax = pd.value_counts(tmp['isFraud'], sort = True).sort_index().plot(kind='bar', title=\"Fraud transaction count\")\n",
        "for p in ax.patches:\n",
        "    ax.annotate(str(format(int(p.get_height()), ',d')), (p.get_x(), p.get_height()))\n",
        "    \n",
        "plt.show()"
      ],
      "metadata": {
        "colab": {
          "base_uri": "https://localhost:8080/",
          "height": 278
        },
        "id": "-alB_Yx2CwrL",
        "outputId": "0ec8bb8e-ddd4-47ac-b142-b66cbdb6e67d"
      },
      "execution_count": null,
      "outputs": [
        {
          "output_type": "display_data",
          "data": {
            "image/png": "[encoded data removed]",
            "text/plain": [
              "<Figure size 432x288 with 1 Axes>"
            ]
          },
          "metadata": {
            "needs_background": "light"
          }
        }
      ]
    },
    {
      "cell_type": "code",
      "source": [
        "Xfraud = X.loc[Y == 1] # update Xfraud & XnonFraud with cleaned data\n",
        "XnonFraud = X.loc[Y == 0]\n",
        "                  \n",
        "correlationNonFraud = XnonFraud.loc[:, X.columns != 'step'].corr()\n",
        "mask = np.zeros_like(correlationNonFraud)\n",
        "indices = np.triu_indices_from(correlationNonFraud)\n",
        "mask[indices] = True\n",
        "\n",
        "grid_kws = {\"width_ratios\": (.9, .9, .05), \"wspace\": 0.2}\n",
        "f, (ax1, ax2, cbar_ax) = plt.subplots(1, 3, gridspec_kw=grid_kws, \\\n",
        "                                     figsize = (14, 9))\n",
        "\n",
        "cmap = sns.diverging_palette(220, 8, as_cmap=True)\n",
        "ax1 =sns.heatmap(correlationNonFraud, ax = ax1, vmin = -1, vmax = 1, \\\n",
        "    cmap = cmap, square = False, linewidths = 0.5, mask = mask, cbar = False)\n",
        "ax1.set_xticklabels(ax1.get_xticklabels(), size = 16); \n",
        "ax1.set_yticklabels(ax1.get_yticklabels(), size = 16); \n",
        "ax1.set_title('Genuine \\n transactions', size = 20)\n",
        "\n",
        "correlationFraud = Xfraud.loc[:, X.columns != 'step'].corr()\n",
        "ax2 = sns.heatmap(correlationFraud, vmin = -1, vmax = 1, cmap = cmap, \\\n",
        " ax = ax2, square = False, linewidths = 0.5, mask = mask, yticklabels = False, \\\n",
        "    cbar_ax = cbar_ax, cbar_kws={'orientation': 'vertical', \\\n",
        "                                 'ticks': [-1, -0.5, 0, 0.5, 1]})\n",
        "ax2.set_xticklabels(ax2.get_xticklabels(), size = 16); \n",
        "ax2.set_title('Fraudulent \\n transactions', size = 20);\n",
        "\n",
        "cbar_ax.set_yticklabels(cbar_ax.get_yticklabels(), size = 14);"
      ],
      "metadata": {
        "colab": {
          "base_uri": "https://localhost:8080/",
          "height": 676
        },
        "id": "fikR9hmqOoni",
        "outputId": "da94565d-9f6f-4215-e65f-18b7277f34f3"
      },
      "execution_count": null,
      "outputs": [
        {
          "output_type": "display_data",
          "data": {
            "image/png": "[encoded data removed]",
            "text/plain": [
              "<Figure size 1008x648 with 3 Axes>"
            ]
          },
          "metadata": {
            "needs_background": "light"
          }
        }
      ]
    },
    {
      "cell_type": "markdown",
      "source": [
        "## Time based analysis of Dataset"
      ],
      "metadata": {
        "id": "MKLp-QHYMqZ6"
      }
    },
    {
      "cell_type": "code",
      "source": [
        "df['step_day'] = df['step'].map(lambda x: x//24)\n",
        "df['hour'] = df['step_day'].map(lambda x: x%24)\n",
        "df['step_week'] = df['step_day'].map(lambda x: x//7)\n",
        "df['step_day'].value_counts().sort_index(ascending=True).plot(kind='bar')\n",
        "plt.xlabel(\"Days of the month\")\n",
        "plt.ylabel(\"# of transactions\")\n",
        "plt.title(\"# of transactions by days of the month\")"
      ],
      "metadata": {
        "colab": {
          "base_uri": "https://localhost:8080/",
          "height": 315
        },
        "id": "ezvLzM8AHtlr",
        "outputId": "ff8956d7-d8a8-4dcb-e4b4-380741d6cb6f"
      },
      "execution_count": null,
      "outputs": [
        {
          "output_type": "execute_result",
          "data": {
            "text/plain": [
              "Text(0.5, 1.0, '# of transactions by days of the month')"
            ]
          },
          "metadata": {},
          "execution_count": 73
        },
        {
          "output_type": "display_data",
          "data": {
            "image/png": "[encoded data removed]",
            "text/plain": [
              "<Figure size 432x288 with 1 Axes>"
            ]
          },
          "metadata": {
            "needs_background": "light"
          }
        }
      ]
    },
    {
      "cell_type": "code",
      "source": [
        "df['hour'].value_counts().sort_index(ascending=True).plot(kind='bar')\n",
        "plt.xlabel(\"Hours of the day\")\n",
        "plt.ylabel(\"# of transactions\")\n",
        "plt.title(\"# of transactions by hours of the day\")"
      ],
      "metadata": {
        "colab": {
          "base_uri": "https://localhost:8080/",
          "height": 315
        },
        "id": "DWAGAhM9Hznp",
        "outputId": "8c3f8e83-0661-47ee-ae09-25ef58373821"
      },
      "execution_count": null,
      "outputs": [
        {
          "output_type": "execute_result",
          "data": {
            "text/plain": [
              "Text(0.5, 1.0, '# of transactions by hours of the day')"
            ]
          },
          "metadata": {},
          "execution_count": 74
        },
        {
          "output_type": "display_data",
          "data": {
            "image/png": "[encoded data removed]",
            "text/plain": [
              "<Figure size 432x288 with 1 Axes>"
            ]
          },
          "metadata": {
            "needs_background": "light"
          }
        }
      ]
    },
    {
      "cell_type": "code",
      "source": [
        "df['step_week'].value_counts().sort_index(ascending=True).plot(kind='bar')\n",
        "plt.xlabel(\"Weeks of the month\")\n",
        "plt.ylabel(\"# of transactions\")\n",
        "plt.title(\"# of transactions by weeks of the month\")"
      ],
      "metadata": {
        "colab": {
          "base_uri": "https://localhost:8080/",
          "height": 309
        },
        "id": "dqbHoNZ4IB-8",
        "outputId": "4222a430-a654-400f-ac09-b9c9d40756a5"
      },
      "execution_count": null,
      "outputs": [
        {
          "output_type": "execute_result",
          "data": {
            "text/plain": [
              "Text(0.5, 1.0, '# of transactions by weeks of the month')"
            ]
          },
          "metadata": {},
          "execution_count": 75
        },
        {
          "output_type": "display_data",
          "data": {
            "image/png": "[encoded data removed]",
            "text/plain": [
              "<Figure size 432x288 with 1 Axes>"
            ]
          },
          "metadata": {
            "needs_background": "light"
          }
        }
      ]
    },
    {
      "cell_type": "code",
      "source": [
        "df[(df.isFraud == 0)]['hour'].plot.hist(bins=24,color='blue',label='Valid')\n",
        "plt.xlabel(\"Hours of the day\")\n",
        "plt.ylabel(\"# of transactions\")\n",
        "plt.title(\"# of Valid transactions by hours of the day\")\n",
        "plt.legend()\n",
        "plt.show()"
      ],
      "metadata": {
        "colab": {
          "base_uri": "https://localhost:8080/",
          "height": 295
        },
        "id": "5zy68n-GIDGp",
        "outputId": "ec1a1e01-6710-4a85-e4fd-320d1448dc46"
      },
      "execution_count": null,
      "outputs": [
        {
          "output_type": "display_data",
          "data": {
            "image/png": "[encoded data removed]",
            "text/plain": [
              "<Figure size 432x288 with 1 Axes>"
            ]
          },
          "metadata": {
            "needs_background": "light"
          }
        }
      ]
    },
    {
      "cell_type": "code",
      "source": [
        "df[(df.isFraud == 1)]['hour'].plot.hist(bins=24,color='orange',label='Fraud')\n",
        "plt.xlabel(\"Hours of the day\")\n",
        "plt.ylabel(\"# of transactions\")\n",
        "plt.title(\"# of Fraud transactions by hours of the day\")\n",
        "plt.legend()\n",
        "plt.show()"
      ],
      "metadata": {
        "colab": {
          "base_uri": "https://localhost:8080/",
          "height": 295
        },
        "id": "dnrZRD1IIGex",
        "outputId": "1cbb0f2c-0a13-4248-9b77-6dafee91e26f"
      },
      "execution_count": null,
      "outputs": [
        {
          "output_type": "display_data",
          "data": {
            "image/png": "[encoded data removed]",
            "text/plain": [
              "<Figure size 432x288 with 1 Axes>"
            ]
          },
          "metadata": {
            "needs_background": "light"
          }
        }
      ]
    },
    {
      "cell_type": "code",
      "source": [
        "df[(df.isFraud == 0)]['step_day'].plot.hist(bins=7,color='blue',label='Valid')\n",
        "plt.xlabel(\"Days of the month\")\n",
        "plt.ylabel(\"# of transactions\")\n",
        "plt.title(\"# of Valid transactions by days of the month\")\n",
        "plt.legend()\n",
        "plt.show()"
      ],
      "metadata": {
        "colab": {
          "base_uri": "https://localhost:8080/",
          "height": 295
        },
        "id": "qQv4bDr9IL3c",
        "outputId": "35cddee7-b743-47a8-b225-e503305cad17"
      },
      "execution_count": null,
      "outputs": [
        {
          "output_type": "display_data",
          "data": {
            "image/png": "[encoded data removed]",
            "text/plain": [
              "<Figure size 432x288 with 1 Axes>"
            ]
          },
          "metadata": {
            "needs_background": "light"
          }
        }
      ]
    },
    {
      "cell_type": "code",
      "source": [
        "fig, ax = plt.subplots() #1,2, figsize=(7,9)\n",
        "df[(df.isFraud == 1)]['step_day'].plot.hist(bins=7,color='orange',label='Fraud')\n",
        "plt.xlabel(\"Days of the month\")\n",
        "plt.ylabel(\"# of transactions\")\n",
        "plt.title(\"# of Fraud transactions by days of the month\")\n",
        "plt.legend()\n",
        "plt.show()"
      ],
      "metadata": {
        "colab": {
          "base_uri": "https://localhost:8080/",
          "height": 295
        },
        "id": "ZRCdH34VIOQL",
        "outputId": "a2c5631e-503b-400c-99be-48187698c825"
      },
      "execution_count": null,
      "outputs": [
        {
          "output_type": "display_data",
          "data": {
            "image/png": "[encoded data removed]",
            "text/plain": [
              "<Figure size 432x288 with 1 Axes>"
            ]
          },
          "metadata": {
            "needs_background": "light"
          }
        }
      ]
    },
    {
      "cell_type": "code",
      "source": [
        "df[(df.isFraud == 0)]['step_week'].plot.hist(bins=4,color='blue',label='Valid')\n",
        "plt.xlabel(\"Weeks of the month\")\n",
        "plt.ylabel(\"# of transactions\")\n",
        "plt.title(\"# of Valid transactions by weeks of the month\")\n",
        "plt.legend()\n",
        "plt.show()"
      ],
      "metadata": {
        "colab": {
          "base_uri": "https://localhost:8080/",
          "height": 295
        },
        "id": "70ufRRT3IMMX",
        "outputId": "040e0f29-a1c8-43ce-939c-e11426fe7557"
      },
      "execution_count": null,
      "outputs": [
        {
          "output_type": "display_data",
          "data": {
            "image/png": "[encoded data removed]",
            "text/plain": [
              "<Figure size 432x288 with 1 Axes>"
            ]
          },
          "metadata": {
            "needs_background": "light"
          }
        }
      ]
    },
    {
      "cell_type": "code",
      "source": [
        "df[(df.isFraud == 1)]['step_week'].plot.hist(bins=4,color='orange',label='Fraud')\n",
        "plt.xlabel(\"Weeks of the month\")\n",
        "plt.ylabel(\"# of transactions\")\n",
        "plt.title(\"# of Fraud transactions by weeks of the month\")\n",
        "plt.legend()\n",
        "plt.show()"
      ],
      "metadata": {
        "colab": {
          "base_uri": "https://localhost:8080/",
          "height": 295
        },
        "id": "_Rhp2Ah2IQo5",
        "outputId": "649d1d50-4394-4753-a920-df4d609eb098"
      },
      "execution_count": null,
      "outputs": [
        {
          "output_type": "display_data",
          "data": {
            "image/png": "[encoded data removed]",
            "text/plain": [
              "<Figure size 432x288 with 1 Axes>"
            ]
          },
          "metadata": {
            "needs_background": "light"
          }
        }
      ]
    },
    {
      "cell_type": "markdown",
      "source": [
        "# Insights"
      ],
      "metadata": {
        "id": "PDUtmSSBGO65"
      }
    },
    {
      "cell_type": "markdown",
      "source": [
        "1. There are no missing values\n",
        "2. There are just over 6 million observations & 11 variables\n",
        "3. Most transactions involve amounts less than 1 million euros.\n",
        "4. Out of 5 transaction types, fraud occurs only in two of them, namely CASH_OUT & TRANSFER\n",
        "5. the number of fraudulent TRANSFERs almost equals the number of fraudulent CASH_OUTs.\n",
        "6. Only 16 values out 6 million have been flagged isFlaggedfraud.. Making it redundant in the dataset\n",
        "7. The old is identical to the new balance in the origin and destination accounts, for every TRANSFER where isFlaggedFraud is set.\n",
        "8. It turns out that originators of transactions that have isFlaggedFraud set have transacted only once.\n",
        "9. Merchants are only present in destination accounts for all PAYMENTS.\n",
        "\n"
      ],
      "metadata": {
        "id": "HdABf_wGGTNA"
      }
    },
    {
      "cell_type": "markdown",
      "source": [
        "## Evaluation of fraud transactions\n",
        "\n",
        "1. Our Fraud Detection Model Detects it to be Fraud\n",
        "2. Immediately after a transfer, cash out is done of amount larger than 200,000 or more than 75% of bank balance."
      ],
      "metadata": {
        "id": "HXt8609ZHJXh"
      }
    }
  ]
}