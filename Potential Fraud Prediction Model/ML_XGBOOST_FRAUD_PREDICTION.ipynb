{
  "nbformat": 4,
  "nbformat_minor": 0,
  "metadata": {
    "colab": {
      "name": "ML-XGBOOST-FRAUD-PREDICTION.ipynb",
      "provenance": []
    },
    "kernelspec": {
      "name": "python3",
      "display_name": "Python 3"
    },
    "language_info": {
      "name": "python"
    }
  },
  "cells": [
    {
      "cell_type": "code",
      "execution_count": 1,
      "metadata": {
        "id": "Ir8i3l-153XJ"
      },
      "outputs": [],
      "source": [
        "import pandas as pd\n",
        "import numpy as np\n",
        "import seaborn as sns\n",
        "import matplotlib.pyplot as plt\n",
        "%matplotlib inline"
      ]
    },
    {
      "cell_type": "code",
      "source": [
        "df = pd.read_csv(\"/content/drive/MyDrive/Hackathon_ML-Model/AIML Dataset.csv\")"
      ],
      "metadata": {
        "id": "-v3lwBuiCgna"
      },
      "execution_count": 5,
      "outputs": []
    },
    {
      "cell_type": "code",
      "source": [
        "df = df.rename(columns={'oldbalanceOrg':'oldBalanceOrig', 'newbalanceOrig':'newBalanceOrig', \\\n",
        "                        'oldbalanceDest':'oldBalanceDest', 'newbalanceDest':'newBalanceDest'})"
      ],
      "metadata": {
        "id": "Cj3-iq0WC4aO"
      },
      "execution_count": 8,
      "outputs": []
    },
    {
      "cell_type": "code",
      "source": [
        "df['step_day'] = df['step'].map(lambda x: x//24)\n",
        "df['hour'] = df['step_day'].map(lambda x: x%24)\n",
        "df['step_week'] = df['step_day'].map(lambda x: x//7)"
      ],
      "metadata": {
        "id": "jKuRAJmTDqPJ"
      },
      "execution_count": 12,
      "outputs": []
    },
    {
      "cell_type": "code",
      "source": [
        "df['ID_NO'] = df.nameOrig.map(lambda x: x[:1])\n",
        "df['ID_NO'].value_counts()"
      ],
      "metadata": {
        "colab": {
          "base_uri": "https://localhost:8080/"
        },
        "id": "friHkd87D1BC",
        "outputId": "d472ac8f-1ffb-48b2-e773-d28f02f16b46"
      },
      "execution_count": 14,
      "outputs": [
        {
          "output_type": "execute_result",
          "data": {
            "text/plain": [
              "C    6362620\n",
              "Name: ID_NO, dtype: int64"
            ]
          },
          "metadata": {},
          "execution_count": 14
        }
      ]
    },
    {
      "cell_type": "code",
      "source": [
        "df['ID_ND'] = df.nameDest.map(lambda x: x[:1])\n",
        "df['ID_ND'].value_counts(1)"
      ],
      "metadata": {
        "colab": {
          "base_uri": "https://localhost:8080/"
        },
        "id": "TA9M_e19D7Ie",
        "outputId": "ed01b805-2898-42a3-8034-a638a45eda12"
      },
      "execution_count": 15,
      "outputs": [
        {
          "output_type": "execute_result",
          "data": {
            "text/plain": [
              "C    0.661854\n",
              "M    0.338146\n",
              "Name: ID_ND, dtype: float64"
            ]
          },
          "metadata": {},
          "execution_count": 15
        }
      ]
    },
    {
      "cell_type": "code",
      "source": [
        "df['ID']=df['ID_NO']+df['ID_ND']\n",
        "df['ID'].value_counts(1).round(2)"
      ],
      "metadata": {
        "colab": {
          "base_uri": "https://localhost:8080/"
        },
        "id": "tDubuF13D8Ux",
        "outputId": "72085ee0-cd47-492b-e83a-6c1122effb7f"
      },
      "execution_count": 16,
      "outputs": [
        {
          "output_type": "execute_result",
          "data": {
            "text/plain": [
              "CC    0.66\n",
              "CM    0.34\n",
              "Name: ID, dtype: float64"
            ]
          },
          "metadata": {},
          "execution_count": 16
        }
      ]
    },
    {
      "cell_type": "code",
      "source": [
        "df['wrong_orig_bal'] = np.where((df[\"oldBalanceOrig\"] - df[\"amount\"] - df[\"newBalanceOrig\"]>0.01)|(df[\"oldBalanceOrig\"] - df[\"amount\"] - df[\"newBalanceOrig\"]<-0.01),1,0)\n",
        "df['wrong_dest_bal'] = np.where((df[\"newBalanceDest\"] + df[\"amount\"] - df[\"newBalanceDest\"]>0.01)|(df[\"newBalanceDest\"] + df[\"amount\"] - df[\"newBalanceDest\"]>0.01),1,0)"
      ],
      "metadata": {
        "id": "wdUSdmCqEHAF"
      },
      "execution_count": 19,
      "outputs": []
    },
    {
      "cell_type": "code",
      "source": [
        "df.groupby(['wrong_orig_bal','isFraud']).size()"
      ],
      "metadata": {
        "colab": {
          "base_uri": "https://localhost:8080/"
        },
        "id": "fGhJiJCEEKGv",
        "outputId": "5bd84a5f-8170-46aa-ad75-8926f66ff1a6"
      },
      "execution_count": 20,
      "outputs": [
        {
          "output_type": "execute_result",
          "data": {
            "text/plain": [
              "wrong_orig_bal  isFraud\n",
              "0               0          1276761\n",
              "                1             8168\n",
              "1               0          5077646\n",
              "                1               45\n",
              "dtype: int64"
            ]
          },
          "metadata": {},
          "execution_count": 20
        }
      ]
    },
    {
      "cell_type": "code",
      "source": [
        "De_Para_type={'type':['PAYMENT','TRANSFER','CASH_OUT','DEBIT','CASH_IN'],'type_num':[0,1,2,3,4]}\n",
        "De_Para_ID={'ID':['CC','CM','MC','MM'],'ID_num':[0,1,10,11]}\n",
        "df_Dp_type = pd.DataFrame(De_Para_type, columns = ['type', 'type_num'])\n",
        "df_Dp_ID = pd.DataFrame(De_Para_ID, columns = ['ID', 'ID_num'])"
      ],
      "metadata": {
        "id": "GN2fhjsUESsg"
      },
      "execution_count": 23,
      "outputs": []
    },
    {
      "cell_type": "code",
      "source": [
        "df_temp = pd.merge(df, df_Dp_type, left_on='type', right_on='type')\n",
        "df = pd.merge(df_temp, df_Dp_ID, left_on='ID', right_on='ID')\n",
        "df.head()"
      ],
      "metadata": {
        "colab": {
          "base_uri": "https://localhost:8080/",
          "height": 270
        },
        "id": "aOhRNOIbEcNq",
        "outputId": "31eba5d5-2590-4d52-b7ea-a50f1d5b1c68"
      },
      "execution_count": 24,
      "outputs": [
        {
          "output_type": "execute_result",
          "data": {
            "text/html": [
              "\n",
              "  <div id=\"df-63817e1f-c5e1-4104-bc0f-8a449fe938c6\">\n",
              "    <div class=\"colab-df-container\">\n",
              "      <div>\n",
              "<style scoped>\n",
              "    .dataframe tbody tr th:only-of-type {\n",
              "        vertical-align: middle;\n",
              "    }\n",
              "\n",
              "    .dataframe tbody tr th {\n",
              "        vertical-align: top;\n",
              "    }\n",
              "\n",
              "    .dataframe thead th {\n",
              "        text-align: right;\n",
              "    }\n",
              "</style>\n",
              "<table border=\"1\" class=\"dataframe\">\n",
              "  <thead>\n",
              "    <tr style=\"text-align: right;\">\n",
              "      <th></th>\n",
              "      <th>step</th>\n",
              "      <th>type</th>\n",
              "      <th>amount</th>\n",
              "      <th>nameOrig</th>\n",
              "      <th>oldBalanceOrig</th>\n",
              "      <th>newBalanceOrig</th>\n",
              "      <th>nameDest</th>\n",
              "      <th>oldBalanceDest</th>\n",
              "      <th>newBalanceDest</th>\n",
              "      <th>isFraud</th>\n",
              "      <th>isFlaggedFraud</th>\n",
              "      <th>step_day</th>\n",
              "      <th>hour</th>\n",
              "      <th>step_week</th>\n",
              "      <th>ID_NO</th>\n",
              "      <th>ID_ND</th>\n",
              "      <th>ID</th>\n",
              "      <th>wrong_orig_bal</th>\n",
              "      <th>wrong_dest_bal</th>\n",
              "      <th>type_num</th>\n",
              "      <th>ID_num</th>\n",
              "    </tr>\n",
              "  </thead>\n",
              "  <tbody>\n",
              "    <tr>\n",
              "      <th>0</th>\n",
              "      <td>1</td>\n",
              "      <td>PAYMENT</td>\n",
              "      <td>9839.64</td>\n",
              "      <td>C1231006815</td>\n",
              "      <td>170136.0</td>\n",
              "      <td>160296.36</td>\n",
              "      <td>M1979787155</td>\n",
              "      <td>0.0</td>\n",
              "      <td>0.0</td>\n",
              "      <td>0</td>\n",
              "      <td>0</td>\n",
              "      <td>0</td>\n",
              "      <td>0</td>\n",
              "      <td>0</td>\n",
              "      <td>C</td>\n",
              "      <td>M</td>\n",
              "      <td>CM</td>\n",
              "      <td>0</td>\n",
              "      <td>1</td>\n",
              "      <td>0</td>\n",
              "      <td>1</td>\n",
              "    </tr>\n",
              "    <tr>\n",
              "      <th>1</th>\n",
              "      <td>1</td>\n",
              "      <td>PAYMENT</td>\n",
              "      <td>1864.28</td>\n",
              "      <td>C1666544295</td>\n",
              "      <td>21249.0</td>\n",
              "      <td>19384.72</td>\n",
              "      <td>M2044282225</td>\n",
              "      <td>0.0</td>\n",
              "      <td>0.0</td>\n",
              "      <td>0</td>\n",
              "      <td>0</td>\n",
              "      <td>0</td>\n",
              "      <td>0</td>\n",
              "      <td>0</td>\n",
              "      <td>C</td>\n",
              "      <td>M</td>\n",
              "      <td>CM</td>\n",
              "      <td>0</td>\n",
              "      <td>1</td>\n",
              "      <td>0</td>\n",
              "      <td>1</td>\n",
              "    </tr>\n",
              "    <tr>\n",
              "      <th>2</th>\n",
              "      <td>1</td>\n",
              "      <td>PAYMENT</td>\n",
              "      <td>11668.14</td>\n",
              "      <td>C2048537720</td>\n",
              "      <td>41554.0</td>\n",
              "      <td>29885.86</td>\n",
              "      <td>M1230701703</td>\n",
              "      <td>0.0</td>\n",
              "      <td>0.0</td>\n",
              "      <td>0</td>\n",
              "      <td>0</td>\n",
              "      <td>0</td>\n",
              "      <td>0</td>\n",
              "      <td>0</td>\n",
              "      <td>C</td>\n",
              "      <td>M</td>\n",
              "      <td>CM</td>\n",
              "      <td>0</td>\n",
              "      <td>1</td>\n",
              "      <td>0</td>\n",
              "      <td>1</td>\n",
              "    </tr>\n",
              "    <tr>\n",
              "      <th>3</th>\n",
              "      <td>1</td>\n",
              "      <td>PAYMENT</td>\n",
              "      <td>7817.71</td>\n",
              "      <td>C90045638</td>\n",
              "      <td>53860.0</td>\n",
              "      <td>46042.29</td>\n",
              "      <td>M573487274</td>\n",
              "      <td>0.0</td>\n",
              "      <td>0.0</td>\n",
              "      <td>0</td>\n",
              "      <td>0</td>\n",
              "      <td>0</td>\n",
              "      <td>0</td>\n",
              "      <td>0</td>\n",
              "      <td>C</td>\n",
              "      <td>M</td>\n",
              "      <td>CM</td>\n",
              "      <td>0</td>\n",
              "      <td>1</td>\n",
              "      <td>0</td>\n",
              "      <td>1</td>\n",
              "    </tr>\n",
              "    <tr>\n",
              "      <th>4</th>\n",
              "      <td>1</td>\n",
              "      <td>PAYMENT</td>\n",
              "      <td>7107.77</td>\n",
              "      <td>C154988899</td>\n",
              "      <td>183195.0</td>\n",
              "      <td>176087.23</td>\n",
              "      <td>M408069119</td>\n",
              "      <td>0.0</td>\n",
              "      <td>0.0</td>\n",
              "      <td>0</td>\n",
              "      <td>0</td>\n",
              "      <td>0</td>\n",
              "      <td>0</td>\n",
              "      <td>0</td>\n",
              "      <td>C</td>\n",
              "      <td>M</td>\n",
              "      <td>CM</td>\n",
              "      <td>0</td>\n",
              "      <td>1</td>\n",
              "      <td>0</td>\n",
              "      <td>1</td>\n",
              "    </tr>\n",
              "  </tbody>\n",
              "</table>\n",
              "</div>\n",
              "      <button class=\"colab-df-convert\" onclick=\"convertToInteractive('df-63817e1f-c5e1-4104-bc0f-8a449fe938c6')\"\n",
              "              title=\"Convert this dataframe to an interactive table.\"\n",
              "              style=\"display:none;\">\n",
              "        \n",
              "  <svg xmlns=\"http://www.w3.org/2000/svg\" height=\"24px\"viewBox=\"0 0 24 24\"\n",
              "       width=\"24px\">\n",
              "    <path d=\"M0 0h24v24H0V0z\" fill=\"none\"/>\n",
              "    <path d=\"M18.56 5.44l.94 2.06.94-2.06 2.06-.94-2.06-.94-.94-2.06-.94 2.06-2.06.94zm-11 1L8.5 8.5l.94-2.06 2.06-.94-2.06-.94L8.5 2.5l-.94 2.06-2.06.94zm10 10l.94 2.06.94-2.06 2.06-.94-2.06-.94-.94-2.06-.94 2.06-2.06.94z\"/><path d=\"M17.41 7.96l-1.37-1.37c-.4-.4-.92-.59-1.43-.59-.52 0-1.04.2-1.43.59L10.3 9.45l-7.72 7.72c-.78.78-.78 2.05 0 2.83L4 21.41c.39.39.9.59 1.41.59.51 0 1.02-.2 1.41-.59l7.78-7.78 2.81-2.81c.8-.78.8-2.07 0-2.86zM5.41 20L4 18.59l7.72-7.72 1.47 1.35L5.41 20z\"/>\n",
              "  </svg>\n",
              "      </button>\n",
              "      \n",
              "  <style>\n",
              "    .colab-df-container {\n",
              "      display:flex;\n",
              "      flex-wrap:wrap;\n",
              "      gap: 12px;\n",
              "    }\n",
              "\n",
              "    .colab-df-convert {\n",
              "      background-color: #E8F0FE;\n",
              "      border: none;\n",
              "      border-radius: 50%;\n",
              "      cursor: pointer;\n",
              "      display: none;\n",
              "      fill: #1967D2;\n",
              "      height: 32px;\n",
              "      padding: 0 0 0 0;\n",
              "      width: 32px;\n",
              "    }\n",
              "\n",
              "    .colab-df-convert:hover {\n",
              "      background-color: #E2EBFA;\n",
              "      box-shadow: 0px 1px 2px rgba(60, 64, 67, 0.3), 0px 1px 3px 1px rgba(60, 64, 67, 0.15);\n",
              "      fill: #174EA6;\n",
              "    }\n",
              "\n",
              "    [theme=dark] .colab-df-convert {\n",
              "      background-color: #3B4455;\n",
              "      fill: #D2E3FC;\n",
              "    }\n",
              "\n",
              "    [theme=dark] .colab-df-convert:hover {\n",
              "      background-color: #434B5C;\n",
              "      box-shadow: 0px 1px 3px 1px rgba(0, 0, 0, 0.15);\n",
              "      filter: drop-shadow(0px 1px 2px rgba(0, 0, 0, 0.3));\n",
              "      fill: #FFFFFF;\n",
              "    }\n",
              "  </style>\n",
              "\n",
              "      <script>\n",
              "        const buttonEl =\n",
              "          document.querySelector('#df-63817e1f-c5e1-4104-bc0f-8a449fe938c6 button.colab-df-convert');\n",
              "        buttonEl.style.display =\n",
              "          google.colab.kernel.accessAllowed ? 'block' : 'none';\n",
              "\n",
              "        async function convertToInteractive(key) {\n",
              "          const element = document.querySelector('#df-63817e1f-c5e1-4104-bc0f-8a449fe938c6');\n",
              "          const dataTable =\n",
              "            await google.colab.kernel.invokeFunction('convertToInteractive',\n",
              "                                                     [key], {});\n",
              "          if (!dataTable) return;\n",
              "\n",
              "          const docLinkHtml = 'Like what you see? Visit the ' +\n",
              "            '<a target=\"_blank\" href=https://colab.research.google.com/notebooks/data_table.ipynb>data table notebook</a>'\n",
              "            + ' to learn more about interactive tables.';\n",
              "          element.innerHTML = '';\n",
              "          dataTable['output_type'] = 'display_data';\n",
              "          await google.colab.output.renderOutput(dataTable, element);\n",
              "          const docLink = document.createElement('div');\n",
              "          docLink.innerHTML = docLinkHtml;\n",
              "          element.appendChild(docLink);\n",
              "        }\n",
              "      </script>\n",
              "    </div>\n",
              "  </div>\n",
              "  "
            ],
            "text/plain": [
              "   step     type    amount  ... wrong_dest_bal  type_num  ID_num\n",
              "0     1  PAYMENT   9839.64  ...              1         0       1\n",
              "1     1  PAYMENT   1864.28  ...              1         0       1\n",
              "2     1  PAYMENT  11668.14  ...              1         0       1\n",
              "3     1  PAYMENT   7817.71  ...              1         0       1\n",
              "4     1  PAYMENT   7107.77  ...              1         0       1\n",
              "\n",
              "[5 rows x 21 columns]"
            ]
          },
          "metadata": {},
          "execution_count": 24
        }
      ]
    },
    {
      "cell_type": "code",
      "source": [
        "df_get_type = pd.get_dummies(df['type'], drop_first=True)\n",
        "df = pd.concat([df,df_get_type],axis=1)\n",
        "df_clean = df.drop(columns=['type','nameOrig','oldBalanceOrig','nameDest','oldBalanceDest','isFlaggedFraud'], axis=1)"
      ],
      "metadata": {
        "id": "Tcx6GQR8EiI8"
      },
      "execution_count": 26,
      "outputs": []
    },
    {
      "cell_type": "code",
      "source": [
        "df_clean = df_clean.drop(columns=['ID_NO','ID_ND','ID'], axis=1)"
      ],
      "metadata": {
        "id": "-wW5KBEbEtMR"
      },
      "execution_count": 27,
      "outputs": []
    },
    {
      "cell_type": "code",
      "source": [
        "df_clean_Fraud = df_clean[df['isFraud']==1]\n",
        "df_clean_Valid = df_clean[df['isFraud']==0]\n",
        "df_clean_Valid = df_clean_Valid.sample(df_clean_Fraud.shape[0])"
      ],
      "metadata": {
        "id": "1JsMS-ZmE7tc"
      },
      "execution_count": 29,
      "outputs": []
    },
    {
      "cell_type": "code",
      "source": [
        "df_new = pd.concat([df_clean_Valid, df_clean_Fraud])"
      ],
      "metadata": {
        "id": "omDjxjvIFFGz"
      },
      "execution_count": 30,
      "outputs": []
    },
    {
      "cell_type": "code",
      "source": [
        "df_final=df_new\n",
        "y_target = df_final['isFraud']\n",
        "X=df_final.drop('isFraud', axis=1)\n",
        "X.shape,y_target.shape[0]"
      ],
      "metadata": {
        "colab": {
          "base_uri": "https://localhost:8080/"
        },
        "id": "Rn0NKn7LFHs5",
        "outputId": "ef5d990f-2cb5-46cb-f0bb-bc64f088587f"
      },
      "execution_count": 31,
      "outputs": [
        {
          "output_type": "execute_result",
          "data": {
            "text/plain": [
              "((16426, 15), 16426)"
            ]
          },
          "metadata": {},
          "execution_count": 31
        }
      ]
    },
    {
      "cell_type": "code",
      "source": [
        "X = X[[\"step\", \"amount\", \"newBalanceOrig\", \"newBalanceDest\", \"CASH_OUT\", \"DEBIT\", \"PAYMENT\", \"TRANSFER\" ]]"
      ],
      "metadata": {
        "id": "hvTl8AsnG4Pa"
      },
      "execution_count": 37,
      "outputs": []
    },
    {
      "cell_type": "code",
      "source": [
        "from sklearn.model_selection import train_test_split\n",
        "X_train, X_test, y_train, y_test = train_test_split(X,y_target, test_size = 0.3, random_state = 26, stratify=y_target)"
      ],
      "metadata": {
        "id": "-wUkgsztF8lO"
      },
      "execution_count": 38,
      "outputs": []
    },
    {
      "cell_type": "code",
      "source": [
        "from sklearn.neighbors import KNeighborsClassifier\n",
        "from sklearn.svm import SVC\n",
        "from sklearn.tree import DecisionTreeClassifier\n",
        "from sklearn.ensemble import RandomForestClassifier, GradientBoostingClassifier\n",
        "from sklearn.naive_bayes import GaussianNB\n",
        "from sklearn.linear_model import LogisticRegression\n",
        "from sklearn import metrics\n",
        "from xgboost.sklearn import XGBClassifier\n",
        "\n",
        "classifiers = [\n",
        "    KNeighborsClassifier(3),\n",
        "    GaussianNB(),\n",
        "    LogisticRegression(),\n",
        "    SVC(),\n",
        "    DecisionTreeClassifier(),\n",
        "    RandomForestClassifier(),\n",
        "    GradientBoostingClassifier(),\n",
        "    XGBClassifier()]\n",
        "\n",
        "\n",
        "for clf in classifiers:\n",
        "    \n",
        "    clf.fit(X_train, y_train)\n",
        "    \n",
        "    name = clf.__class__.__name__\n",
        "    \n",
        "    print(\"=\"*30)\n",
        "    print(name)\n",
        "    \n",
        "    print('****Results****')\n",
        "    \n",
        "    y_pred = clf.predict(X_train)\n",
        "    \n",
        "    print(\"Accuracy:     \", round(metrics.accuracy_score(y_train, y_pred),4)*100)\n",
        "    print(\"Precision:    \", round(metrics.precision_score(y_train, y_pred),4)*100)\n",
        "    print(\"Recall:       \", round(metrics.recall_score(y_train, y_pred),4)*100)"
      ],
      "metadata": {
        "colab": {
          "base_uri": "https://localhost:8080/"
        },
        "id": "W7ZTGaJzGAce",
        "outputId": "1b809a8f-5dcb-4e86-822e-af4e9043e112"
      },
      "execution_count": 40,
      "outputs": [
        {
          "output_type": "stream",
          "name": "stdout",
          "text": [
            "==============================\n",
            "KNeighborsClassifier\n",
            "****Results****\n",
            "Accuracy:      89.97\n",
            "Precision:     90.75999999999999\n",
            "Recall:        89.01\n",
            "==============================\n",
            "GaussianNB\n",
            "****Results****\n",
            "Accuracy:      73.39\n",
            "Precision:     91.43\n",
            "Recall:        51.61\n",
            "==============================\n",
            "LogisticRegression\n",
            "****Results****\n",
            "Accuracy:      69.23\n",
            "Precision:     63.660000000000004\n",
            "Recall:        89.62\n",
            "==============================\n",
            "SVC\n",
            "****Results****\n",
            "Accuracy:      77.23\n",
            "Precision:     89.38000000000001\n",
            "Recall:        61.8\n",
            "==============================\n",
            "DecisionTreeClassifier\n",
            "****Results****\n",
            "Accuracy:      100.0\n",
            "Precision:     100.0\n",
            "Recall:        100.0\n",
            "==============================\n",
            "RandomForestClassifier\n",
            "****Results****\n",
            "Accuracy:      100.0\n",
            "Precision:     100.0\n",
            "Recall:        100.0\n",
            "==============================\n",
            "GradientBoostingClassifier\n",
            "****Results****\n",
            "Accuracy:      93.65\n",
            "Precision:     95.85000000000001\n",
            "Recall:        91.25\n",
            "==============================\n",
            "XGBClassifier\n",
            "****Results****\n",
            "Accuracy:      93.46\n",
            "Precision:     95.89\n",
            "Recall:        90.82000000000001\n"
          ]
        }
      ]
    },
    {
      "cell_type": "code",
      "source": [
        "# FINALIZING XGBOOST CLASSIFIER\n",
        "\n",
        "model = XGBClassifier()\n",
        "\n",
        "model.fit(X_train, y_train)\n",
        "\n",
        "y_pred = model.predict(X_train)\n",
        "\n",
        "\n",
        "print(\"Accuracy:     \", round(metrics.accuracy_score(y_train, y_pred),4)*100)\n",
        "print(\"Precision:    \", round(metrics.precision_score(y_train, y_pred),4)*100)\n",
        "print(\"Recall:       \", round(metrics.recall_score(y_train, y_pred),4)*100)"
      ],
      "metadata": {
        "colab": {
          "base_uri": "https://localhost:8080/"
        },
        "id": "OCBKaJhsGr7g",
        "outputId": "7cea4aef-57ee-4ec5-b048-83c7968c6f33"
      },
      "execution_count": 41,
      "outputs": [
        {
          "output_type": "stream",
          "name": "stdout",
          "text": [
            "Accuracy:      93.46\n",
            "Precision:     95.89\n",
            "Recall:        90.82000000000001\n"
          ]
        }
      ]
    },
    {
      "cell_type": "code",
      "source": [
        "from xgboost import plot_importance, to_graphviz\n",
        "\n",
        "to_graphviz(model)"
      ],
      "metadata": {
        "colab": {
          "base_uri": "https://localhost:8080/",
          "height": 428
        },
        "id": "5ahfEDdrIrxr",
        "outputId": "65ce302a-ff52-4df6-a430-6ad86c3d5b65"
      },
      "execution_count": 42,
      "outputs": [
        {
          "output_type": "execute_result",
          "data": {
            "text/plain": [
              "<graphviz.dot.Digraph at 0x7fd0bbf18210>"
            ],
            "image/svg+xml": "<?xml version=\"1.0\" encoding=\"UTF-8\" standalone=\"no\"?>\n<!DOCTYPE svg PUBLIC \"-//W3C//DTD SVG 1.1//EN\"\n \"http://www.w3.org/Graphics/SVG/1.1/DTD/svg11.dtd\">\n<!-- Generated by graphviz version 2.40.1 (20161225.0304)\n -->\n<!-- Title: %3 Pages: 1 -->\n<svg width=\"812pt\" height=\"305pt\"\n viewBox=\"0.00 0.00 812.19 305.00\" xmlns=\"http://www.w3.org/2000/svg\" xmlns:xlink=\"http://www.w3.org/1999/xlink\">\n<g id=\"graph0\" class=\"graph\" transform=\"scale(1 1) rotate(0) translate(4 301)\">\n<title>%3</title>\n<polygon fill=\"#ffffff\" stroke=\"transparent\" points=\"-4,4 -4,-301 808.1857,-301 808.1857,4 -4,4\"/>\n<!-- 0 -->\n<g id=\"node1\" class=\"node\">\n<title>0</title>\n<ellipse fill=\"none\" stroke=\"#000000\" cx=\"469.5928\" cy=\"-279\" rx=\"124.2781\" ry=\"18\"/>\n<text text-anchor=\"middle\" x=\"469.5928\" y=\"-275.3\" font-family=\"Times,serif\" font-size=\"14.00\" fill=\"#000000\">newBalanceOrig&lt;35.0800018</text>\n</g>\n<!-- 1 -->\n<g id=\"node2\" class=\"node\">\n<title>1</title>\n<ellipse fill=\"none\" stroke=\"#000000\" cx=\"382.5928\" cy=\"-192\" rx=\"64.9885\" ry=\"18\"/>\n<text text-anchor=\"middle\" x=\"382.5928\" y=\"-188.3\" font-family=\"Times,serif\" font-size=\"14.00\" fill=\"#000000\">PAYMENT&lt;1</text>\n</g>\n<!-- 0&#45;&gt;1 -->\n<g id=\"edge1\" class=\"edge\">\n<title>0&#45;&gt;1</title>\n<path fill=\"none\" stroke=\"#0000ff\" d=\"M451.5664,-260.9735C438.8001,-248.2072 421.5142,-230.9214 407.4412,-216.8484\"/>\n<polygon fill=\"#0000ff\" stroke=\"#0000ff\" points=\"409.5485,-214.0059 400.0025,-209.4097 404.5988,-218.9557 409.5485,-214.0059\"/>\n<text text-anchor=\"middle\" x=\"467.0928\" y=\"-231.8\" font-family=\"Times,serif\" font-size=\"14.00\" fill=\"#000000\">yes, missing</text>\n</g>\n<!-- 2 -->\n<g id=\"node3\" class=\"node\">\n<title>2</title>\n<ellipse fill=\"none\" stroke=\"#000000\" cx=\"556.5928\" cy=\"-192\" rx=\"90.9839\" ry=\"18\"/>\n<text text-anchor=\"middle\" x=\"556.5928\" y=\"-188.3\" font-family=\"Times,serif\" font-size=\"14.00\" fill=\"#000000\">amount&lt;1926793.62</text>\n</g>\n<!-- 0&#45;&gt;2 -->\n<g id=\"edge2\" class=\"edge\">\n<title>0&#45;&gt;2</title>\n<path fill=\"none\" stroke=\"#ff0000\" d=\"M488.1203,-261.1399C494.0504,-255.379 500.6244,-248.9458 506.5928,-243 514.9326,-234.6919 523.9632,-225.5319 532.0253,-217.2945\"/>\n<polygon fill=\"#ff0000\" stroke=\"#ff0000\" points=\"534.6271,-219.6397 539.1094,-210.0398 529.6188,-214.7492 534.6271,-219.6397\"/>\n<text text-anchor=\"middle\" x=\"528.5928\" y=\"-231.8\" font-family=\"Times,serif\" font-size=\"14.00\" fill=\"#000000\">no</text>\n</g>\n<!-- 3 -->\n<g id=\"node4\" class=\"node\">\n<title>3</title>\n<ellipse fill=\"none\" stroke=\"#000000\" cx=\"158.5928\" cy=\"-105\" rx=\"124.2781\" ry=\"18\"/>\n<text text-anchor=\"middle\" x=\"158.5928\" y=\"-101.3\" font-family=\"Times,serif\" font-size=\"14.00\" fill=\"#000000\">newBalanceDest&lt;48054.6914</text>\n</g>\n<!-- 1&#45;&gt;3 -->\n<g id=\"edge3\" class=\"edge\">\n<title>1&#45;&gt;3</title>\n<path fill=\"none\" stroke=\"#0000ff\" d=\"M344.8476,-177.34C308.3716,-163.173 252.7713,-141.5782 211.8097,-125.6691\"/>\n<polygon fill=\"#0000ff\" stroke=\"#0000ff\" points=\"212.8467,-122.3171 202.2579,-121.9592 210.3123,-128.8423 212.8467,-122.3171\"/>\n<text text-anchor=\"middle\" x=\"320.0928\" y=\"-144.8\" font-family=\"Times,serif\" font-size=\"14.00\" fill=\"#000000\">yes, missing</text>\n</g>\n<!-- 4 -->\n<g id=\"node5\" class=\"node\">\n<title>4</title>\n<ellipse fill=\"none\" stroke=\"#000000\" cx=\"383.5928\" cy=\"-105\" rx=\"83.3857\" ry=\"18\"/>\n<text text-anchor=\"middle\" x=\"383.5928\" y=\"-101.3\" font-family=\"Times,serif\" font-size=\"14.00\" fill=\"#000000\">leaf=&#45;0.199195176</text>\n</g>\n<!-- 1&#45;&gt;4 -->\n<g id=\"edge4\" class=\"edge\">\n<title>1&#45;&gt;4</title>\n<path fill=\"none\" stroke=\"#ff0000\" d=\"M382.8,-173.9735C382.9355,-162.1918 383.1151,-146.5607 383.2692,-133.1581\"/>\n<polygon fill=\"#ff0000\" stroke=\"#ff0000\" points=\"386.7707,-133.043 383.3859,-123.0034 379.7711,-132.9624 386.7707,-133.043\"/>\n<text text-anchor=\"middle\" x=\"391.5928\" y=\"-144.8\" font-family=\"Times,serif\" font-size=\"14.00\" fill=\"#000000\">no</text>\n</g>\n<!-- 5 -->\n<g id=\"node8\" class=\"node\">\n<title>5</title>\n<ellipse fill=\"none\" stroke=\"#000000\" cx=\"555.5928\" cy=\"-105\" rx=\"69.5877\" ry=\"18\"/>\n<text text-anchor=\"middle\" x=\"555.5928\" y=\"-101.3\" font-family=\"Times,serif\" font-size=\"14.00\" fill=\"#000000\">TRANSFER&lt;1</text>\n</g>\n<!-- 2&#45;&gt;5 -->\n<g id=\"edge7\" class=\"edge\">\n<title>2&#45;&gt;5</title>\n<path fill=\"none\" stroke=\"#0000ff\" d=\"M556.3856,-173.9735C556.2502,-162.1918 556.0706,-146.5607 555.9165,-133.1581\"/>\n<polygon fill=\"#0000ff\" stroke=\"#0000ff\" points=\"559.4146,-132.9624 555.7998,-123.0034 552.415,-133.043 559.4146,-132.9624\"/>\n<text text-anchor=\"middle\" x=\"592.0928\" y=\"-144.8\" font-family=\"Times,serif\" font-size=\"14.00\" fill=\"#000000\">yes, missing</text>\n</g>\n<!-- 6 -->\n<g id=\"node9\" class=\"node\">\n<title>6</title>\n<ellipse fill=\"none\" stroke=\"#000000\" cx=\"723.5928\" cy=\"-105\" rx=\"80.6858\" ry=\"18\"/>\n<text text-anchor=\"middle\" x=\"723.5928\" y=\"-101.3\" font-family=\"Times,serif\" font-size=\"14.00\" fill=\"#000000\">leaf=0.192982465</text>\n</g>\n<!-- 2&#45;&gt;6 -->\n<g id=\"edge8\" class=\"edge\">\n<title>2&#45;&gt;6</title>\n<path fill=\"none\" stroke=\"#ff0000\" d=\"M592.2849,-175.3926C604.7947,-169.4336 618.8892,-162.5628 631.5928,-156 649.3896,-146.806 668.8255,-136.1279 685.2286,-126.9253\"/>\n<polygon fill=\"#ff0000\" stroke=\"#ff0000\" points=\"687.0055,-129.9415 693.9998,-121.9833 683.5694,-123.8429 687.0055,-129.9415\"/>\n<text text-anchor=\"middle\" x=\"668.5928\" y=\"-144.8\" font-family=\"Times,serif\" font-size=\"14.00\" fill=\"#000000\">no</text>\n</g>\n<!-- 7 -->\n<g id=\"node6\" class=\"node\">\n<title>7</title>\n<ellipse fill=\"none\" stroke=\"#000000\" cx=\"80.5928\" cy=\"-18\" rx=\"80.6858\" ry=\"18\"/>\n<text text-anchor=\"middle\" x=\"80.5928\" y=\"-14.3\" font-family=\"Times,serif\" font-size=\"14.00\" fill=\"#000000\">leaf=0.194277927</text>\n</g>\n<!-- 3&#45;&gt;7 -->\n<g id=\"edge5\" class=\"edge\">\n<title>3&#45;&gt;7</title>\n<path fill=\"none\" stroke=\"#0000ff\" d=\"M142.4312,-86.9735C131.1661,-74.4087 115.9759,-57.4657 103.47,-43.5168\"/>\n<polygon fill=\"#0000ff\" stroke=\"#0000ff\" points=\"105.7484,-40.815 96.4669,-35.7057 100.5364,-45.4878 105.7484,-40.815\"/>\n<text text-anchor=\"middle\" x=\"160.0928\" y=\"-57.8\" font-family=\"Times,serif\" font-size=\"14.00\" fill=\"#000000\">yes, missing</text>\n</g>\n<!-- 8 -->\n<g id=\"node7\" class=\"node\">\n<title>8</title>\n<ellipse fill=\"none\" stroke=\"#000000\" cx=\"254.5928\" cy=\"-18\" rx=\"75.2868\" ry=\"18\"/>\n<text text-anchor=\"middle\" x=\"254.5928\" y=\"-14.3\" font-family=\"Times,serif\" font-size=\"14.00\" fill=\"#000000\">leaf=0.02004008</text>\n</g>\n<!-- 3&#45;&gt;8 -->\n<g id=\"edge6\" class=\"edge\">\n<title>3&#45;&gt;8</title>\n<path fill=\"none\" stroke=\"#ff0000\" d=\"M179.1269,-87.1631C185.6983,-81.4035 192.9822,-74.9652 199.5928,-69 209.1096,-60.4125 219.4397,-50.8884 228.5505,-42.4178\"/>\n<polygon fill=\"#ff0000\" stroke=\"#ff0000\" points=\"230.9431,-44.9724 235.8722,-35.5939 226.1705,-39.8516 230.9431,-44.9724\"/>\n<text text-anchor=\"middle\" x=\"223.5928\" y=\"-57.8\" font-family=\"Times,serif\" font-size=\"14.00\" fill=\"#000000\">no</text>\n</g>\n<!-- 9 -->\n<g id=\"node10\" class=\"node\">\n<title>9</title>\n<ellipse fill=\"none\" stroke=\"#000000\" cx=\"449.5928\" cy=\"-18\" rx=\"83.3857\" ry=\"18\"/>\n<text text-anchor=\"middle\" x=\"449.5928\" y=\"-14.3\" font-family=\"Times,serif\" font-size=\"14.00\" fill=\"#000000\">leaf=&#45;0.199512988</text>\n</g>\n<!-- 5&#45;&gt;9 -->\n<g id=\"edge9\" class=\"edge\">\n<title>5&#45;&gt;9</title>\n<path fill=\"none\" stroke=\"#0000ff\" d=\"M534.6507,-87.8116C518.6401,-74.6709 496.3777,-56.3989 478.6446,-41.8443\"/>\n<polygon fill=\"#0000ff\" stroke=\"#0000ff\" points=\"480.8047,-39.0894 470.8544,-35.4505 476.3637,-44.5002 480.8047,-39.0894\"/>\n<text text-anchor=\"middle\" x=\"545.0928\" y=\"-57.8\" font-family=\"Times,serif\" font-size=\"14.00\" fill=\"#000000\">yes, missing</text>\n</g>\n<!-- 10 -->\n<g id=\"node11\" class=\"node\">\n<title>10</title>\n<ellipse fill=\"none\" stroke=\"#000000\" cx=\"633.5928\" cy=\"-18\" rx=\"83.3857\" ry=\"18\"/>\n<text text-anchor=\"middle\" x=\"633.5928\" y=\"-14.3\" font-family=\"Times,serif\" font-size=\"14.00\" fill=\"#000000\">leaf=&#45;0.116666667</text>\n</g>\n<!-- 5&#45;&gt;10 -->\n<g id=\"edge10\" class=\"edge\">\n<title>5&#45;&gt;10</title>\n<path fill=\"none\" stroke=\"#ff0000\" d=\"M571.3773,-87.3943C582.7204,-74.7424 598.1829,-57.4957 610.855,-43.3614\"/>\n<polygon fill=\"#ff0000\" stroke=\"#ff0000\" points=\"613.4947,-45.6603 617.5641,-35.8782 608.2827,-40.9875 613.4947,-45.6603\"/>\n<text text-anchor=\"middle\" x=\"607.5928\" y=\"-57.8\" font-family=\"Times,serif\" font-size=\"14.00\" fill=\"#000000\">no</text>\n</g>\n</g>\n</svg>\n"
          },
          "metadata": {},
          "execution_count": 42
        }
      ]
    },
    {
      "cell_type": "code",
      "source": [
        "fig = plt.figure(figsize = (14, 9))\n",
        "ax = fig.add_subplot(111)\n",
        "\n",
        "colours = plt.cm.Set1(np.linspace(0, 1, 9))\n",
        "\n",
        "ax = plot_importance(clf, height = 1, color = colours, grid = False, \\\n",
        "                     show_values = False, importance_type = 'cover', ax = ax);\n",
        "for axis in ['top','bottom','left','right']:\n",
        "            ax.spines[axis].set_linewidth(2)\n",
        "        \n",
        "ax.set_xlabel('importance score', size = 16);\n",
        "ax.set_ylabel('features', size = 16);\n",
        "ax.set_yticklabels(ax.get_yticklabels(), size = 12);\n",
        "ax.set_title('Ordering of features by importance to the model learnt', size = 20);"
      ],
      "metadata": {
        "colab": {
          "base_uri": "https://localhost:8080/",
          "height": 583
        },
        "id": "MxofliDdJD8o",
        "outputId": "7550d4da-361c-4f1c-c694-927f77d88a01"
      },
      "execution_count": 43,
      "outputs": [
        {
          "output_type": "display_data",
          "data": {
            "image/png": "[encoded data removed]",
            "text/plain": [
              "<Figure size 1008x648 with 1 Axes>"
            ]
          },
          "metadata": {}
        }
      ]
    }
  ]
}